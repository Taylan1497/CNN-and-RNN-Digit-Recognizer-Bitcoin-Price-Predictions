{
 "cells": [
  {
   "cell_type": "markdown",
   "id": "4c0ddaa3",
   "metadata": {},
   "source": [
    "## Digit Recognizer Project with Simple and Convolutional Neural Network using TensorFlow\n",
    "\n",
    "### Taylan Tatlı, 10/09/2022 ###\n",
    "\n",
    " 1)Introduction\n",
    "\n",
    " 2)Data Pre-Processing \n",
    "\n",
    "        * Normalization\n",
    "        * Reshaping\n",
    "        * Label Encoding\n",
    "        \n",
    " 3)Classification with Simple Neural Network\n",
    "\n",
    " 4)Classification with CNN**\n",
    "\n",
    " 5)Results\n",
    "\n"
   ]
  },
  {
   "cell_type": "markdown",
   "id": "9eee1b92",
   "metadata": {},
   "source": [
    "### INTRODUCTION ###"
   ]
  },
  {
   "cell_type": "markdown",
   "id": "df14dedd",
   "metadata": {},
   "source": [
    "This notebook contains the simple and convolutional neural network studies for Digit Recognizer Project, an image classification. Modelling with simple and convolutional neural network part also contains the studies on the overfitting problem. \n",
    "\n",
    "#### Overview of the Project \n",
    "\n",
    "MNIST (\"Modified National Institute of Standards and Technology\") is the de facto “hello world” dataset of computer vision. Since its release in 1999, this classic dataset of handwritten images has served as the basis for benchmarking classification algorithms. As new machine learning techniques emerge, MNIST remains a reliable resource for researchers and learners alike.\n",
    "\n",
    "In this competition, your goal is to correctly identify digits from a dataset of tens of thousands of handwritten images. We’ve curated a set of tutorial-style kernels which cover everything from regression to neural networks. We encourage you to experiment with different algorithms to learn first-hand what works well and how techniques compare."
   ]
  },
  {
   "cell_type": "code",
   "execution_count": 1,
   "id": "a07879aa",
   "metadata": {},
   "outputs": [],
   "source": [
    "# import neccesary modules and libraries\n",
    "import pandas as pd\n",
    "import numpy as np \n",
    "import matplotlib.pyplot as plt \n",
    "import matplotlib.image as mpimg\n",
    "import seaborn as sns\n",
    "\n",
    "from sklearn.model_selection import train_test_split\n",
    "from sklearn.metrics import confusion_matrix\n",
    "import itertools\n",
    "from keras.preprocessing.image import ImageDataGenerator"
   ]
  },
  {
   "cell_type": "markdown",
   "id": "9c45d8da",
   "metadata": {},
   "source": [
    "### DATA PRE-PROCESSING\n",
    "\n"
   ]
  },
  {
   "cell_type": "code",
   "execution_count": 2,
   "id": "4037961e",
   "metadata": {},
   "outputs": [
    {
     "data": {
      "text/html": [
       "<div>\n",
       "<style scoped>\n",
       "    .dataframe tbody tr th:only-of-type {\n",
       "        vertical-align: middle;\n",
       "    }\n",
       "\n",
       "    .dataframe tbody tr th {\n",
       "        vertical-align: top;\n",
       "    }\n",
       "\n",
       "    .dataframe thead th {\n",
       "        text-align: right;\n",
       "    }\n",
       "</style>\n",
       "<table border=\"1\" class=\"dataframe\">\n",
       "  <thead>\n",
       "    <tr style=\"text-align: right;\">\n",
       "      <th></th>\n",
       "      <th>label</th>\n",
       "      <th>pixel0</th>\n",
       "      <th>pixel1</th>\n",
       "      <th>pixel2</th>\n",
       "      <th>pixel3</th>\n",
       "      <th>pixel4</th>\n",
       "      <th>pixel5</th>\n",
       "      <th>pixel6</th>\n",
       "      <th>pixel7</th>\n",
       "      <th>pixel8</th>\n",
       "      <th>...</th>\n",
       "      <th>pixel774</th>\n",
       "      <th>pixel775</th>\n",
       "      <th>pixel776</th>\n",
       "      <th>pixel777</th>\n",
       "      <th>pixel778</th>\n",
       "      <th>pixel779</th>\n",
       "      <th>pixel780</th>\n",
       "      <th>pixel781</th>\n",
       "      <th>pixel782</th>\n",
       "      <th>pixel783</th>\n",
       "    </tr>\n",
       "  </thead>\n",
       "  <tbody>\n",
       "    <tr>\n",
       "      <th>0</th>\n",
       "      <td>1</td>\n",
       "      <td>0</td>\n",
       "      <td>0</td>\n",
       "      <td>0</td>\n",
       "      <td>0</td>\n",
       "      <td>0</td>\n",
       "      <td>0</td>\n",
       "      <td>0</td>\n",
       "      <td>0</td>\n",
       "      <td>0</td>\n",
       "      <td>...</td>\n",
       "      <td>0</td>\n",
       "      <td>0</td>\n",
       "      <td>0</td>\n",
       "      <td>0</td>\n",
       "      <td>0</td>\n",
       "      <td>0</td>\n",
       "      <td>0</td>\n",
       "      <td>0</td>\n",
       "      <td>0</td>\n",
       "      <td>0</td>\n",
       "    </tr>\n",
       "    <tr>\n",
       "      <th>1</th>\n",
       "      <td>0</td>\n",
       "      <td>0</td>\n",
       "      <td>0</td>\n",
       "      <td>0</td>\n",
       "      <td>0</td>\n",
       "      <td>0</td>\n",
       "      <td>0</td>\n",
       "      <td>0</td>\n",
       "      <td>0</td>\n",
       "      <td>0</td>\n",
       "      <td>...</td>\n",
       "      <td>0</td>\n",
       "      <td>0</td>\n",
       "      <td>0</td>\n",
       "      <td>0</td>\n",
       "      <td>0</td>\n",
       "      <td>0</td>\n",
       "      <td>0</td>\n",
       "      <td>0</td>\n",
       "      <td>0</td>\n",
       "      <td>0</td>\n",
       "    </tr>\n",
       "    <tr>\n",
       "      <th>2</th>\n",
       "      <td>1</td>\n",
       "      <td>0</td>\n",
       "      <td>0</td>\n",
       "      <td>0</td>\n",
       "      <td>0</td>\n",
       "      <td>0</td>\n",
       "      <td>0</td>\n",
       "      <td>0</td>\n",
       "      <td>0</td>\n",
       "      <td>0</td>\n",
       "      <td>...</td>\n",
       "      <td>0</td>\n",
       "      <td>0</td>\n",
       "      <td>0</td>\n",
       "      <td>0</td>\n",
       "      <td>0</td>\n",
       "      <td>0</td>\n",
       "      <td>0</td>\n",
       "      <td>0</td>\n",
       "      <td>0</td>\n",
       "      <td>0</td>\n",
       "    </tr>\n",
       "    <tr>\n",
       "      <th>3</th>\n",
       "      <td>4</td>\n",
       "      <td>0</td>\n",
       "      <td>0</td>\n",
       "      <td>0</td>\n",
       "      <td>0</td>\n",
       "      <td>0</td>\n",
       "      <td>0</td>\n",
       "      <td>0</td>\n",
       "      <td>0</td>\n",
       "      <td>0</td>\n",
       "      <td>...</td>\n",
       "      <td>0</td>\n",
       "      <td>0</td>\n",
       "      <td>0</td>\n",
       "      <td>0</td>\n",
       "      <td>0</td>\n",
       "      <td>0</td>\n",
       "      <td>0</td>\n",
       "      <td>0</td>\n",
       "      <td>0</td>\n",
       "      <td>0</td>\n",
       "    </tr>\n",
       "    <tr>\n",
       "      <th>4</th>\n",
       "      <td>0</td>\n",
       "      <td>0</td>\n",
       "      <td>0</td>\n",
       "      <td>0</td>\n",
       "      <td>0</td>\n",
       "      <td>0</td>\n",
       "      <td>0</td>\n",
       "      <td>0</td>\n",
       "      <td>0</td>\n",
       "      <td>0</td>\n",
       "      <td>...</td>\n",
       "      <td>0</td>\n",
       "      <td>0</td>\n",
       "      <td>0</td>\n",
       "      <td>0</td>\n",
       "      <td>0</td>\n",
       "      <td>0</td>\n",
       "      <td>0</td>\n",
       "      <td>0</td>\n",
       "      <td>0</td>\n",
       "      <td>0</td>\n",
       "    </tr>\n",
       "  </tbody>\n",
       "</table>\n",
       "<p>5 rows × 785 columns</p>\n",
       "</div>"
      ],
      "text/plain": [
       "   label  pixel0  pixel1  pixel2  pixel3  pixel4  pixel5  pixel6  pixel7  \\\n",
       "0      1       0       0       0       0       0       0       0       0   \n",
       "1      0       0       0       0       0       0       0       0       0   \n",
       "2      1       0       0       0       0       0       0       0       0   \n",
       "3      4       0       0       0       0       0       0       0       0   \n",
       "4      0       0       0       0       0       0       0       0       0   \n",
       "\n",
       "   pixel8  ...  pixel774  pixel775  pixel776  pixel777  pixel778  pixel779  \\\n",
       "0       0  ...         0         0         0         0         0         0   \n",
       "1       0  ...         0         0         0         0         0         0   \n",
       "2       0  ...         0         0         0         0         0         0   \n",
       "3       0  ...         0         0         0         0         0         0   \n",
       "4       0  ...         0         0         0         0         0         0   \n",
       "\n",
       "   pixel780  pixel781  pixel782  pixel783  \n",
       "0         0         0         0         0  \n",
       "1         0         0         0         0  \n",
       "2         0         0         0         0  \n",
       "3         0         0         0         0  \n",
       "4         0         0         0         0  \n",
       "\n",
       "[5 rows x 785 columns]"
      ]
     },
     "execution_count": 2,
     "metadata": {},
     "output_type": "execute_result"
    }
   ],
   "source": [
    "train=pd.read_csv(\"train.csv\")\n",
    "test = pd.read_csv(\"test.csv\")\n",
    "train.head()"
   ]
  },
  {
   "cell_type": "code",
   "execution_count": 3,
   "id": "488e1a85",
   "metadata": {},
   "outputs": [
    {
     "data": {
      "text/plain": [
       "((42000, 785), (28000, 784))"
      ]
     },
     "execution_count": 3,
     "metadata": {},
     "output_type": "execute_result"
    }
   ],
   "source": [
    "train.shape,test.shape"
   ]
  },
  {
   "cell_type": "code",
   "execution_count": 4,
   "id": "38a5a9b0",
   "metadata": {},
   "outputs": [],
   "source": [
    "# put labels into y_train variable\n",
    "y_train = train[\"label\"]\n",
    "# Drop 'label' column\n",
    "x_train = train.drop(labels = [\"label\"],axis = 1) "
   ]
  },
  {
   "cell_type": "code",
   "execution_count": 5,
   "id": "887bd436",
   "metadata": {},
   "outputs": [],
   "source": [
    "import warnings\n",
    "# filter warnings\n",
    "warnings.filterwarnings('ignore')"
   ]
  },
  {
   "cell_type": "code",
   "execution_count": 6,
   "id": "33dbefac",
   "metadata": {},
   "outputs": [
    {
     "data": {
      "text/plain": [
       "Text(0.5, 0, 'Classes')"
      ]
     },
     "execution_count": 6,
     "metadata": {},
     "output_type": "execute_result"
    },
    {
     "data": {
      "image/png": "[encoded data removed]",
      "text/plain": [
       "<Figure size 576x432 with 1 Axes>"
      ]
     },
     "metadata": {
      "needs_background": "light"
     },
     "output_type": "display_data"
    }
   ],
   "source": [
    "# visualize number of digits classes\n",
    "plt.figure(figsize=(8,6))\n",
    "g = sns.countplot(y_train, palette=\"icefire\")\n",
    "plt.title(\"Total Number of Classes\")\n",
    "plt.ylabel(\"Total Number\")\n",
    "plt.xlabel(\"Classes\")\n",
    "#y_train.value_counts()"
   ]
  },
  {
   "cell_type": "code",
   "execution_count": 7,
   "id": "f6da8faf",
   "metadata": {},
   "outputs": [
    {
     "data": {
      "image/png": "[encoded data removed]",
      "text/plain": [
       "<Figure size 432x288 with 1 Axes>"
      ]
     },
     "metadata": {
      "needs_background": "light"
     },
     "output_type": "display_data"
    }
   ],
   "source": [
    "# See some images randomly\n",
    "import random\n",
    "def plot_random_image(x_train):\n",
    "    image_num = random.randint(0,x_train.shape[0])\n",
    "    image = x_train.iloc[image_num].to_numpy()\n",
    "    image = image.reshape(28,28)\n",
    "    plt.imshow(image, cmap=\"gray\")\n",
    "    plt.title(\"The Class:\"+str(y_train.iloc[image_num]))\n",
    "    plt.show()\n",
    "    \n",
    "    return image\n",
    "rand_iamge=plot_random_image(x_train)"
   ]
  },
  {
   "cell_type": "markdown",
   "id": "e1877624",
   "metadata": {},
   "source": [
    "#### 2.1 Normalization\n",
    "\n",
    "    * We perform a grayscale normalization to reduce the effect of illumination's differences.\n",
    "    * If we perform normalization, CNN works faster.The CNN converges faster on [0..1] data than [0..255].\n",
    "    "
   ]
  },
  {
   "cell_type": "code",
   "execution_count": 8,
   "id": "899c41c1",
   "metadata": {},
   "outputs": [
    {
     "name": "stdout",
     "output_type": "stream",
     "text": [
      "x_train shape:  (42000, 784)\n"
     ]
    }
   ],
   "source": [
    "## NORMALIZATION ##\n",
    "x_train = x_train/255.0\n",
    "test = test / 255.0\n",
    "print(\"x_train shape: \",x_train.shape)\n",
    "#print(\"test shape: \",test.shape)\n"
   ]
  },
  {
   "cell_type": "markdown",
   "id": "f2d2ee26",
   "metadata": {},
   "source": [
    "#### 2.2 Reshaping\n",
    "\n",
    "    * Dataframe as 1D vectors of 784 values. So the images (28x28). We reshape all data to 28x28x1 3D matrices. Keras needs an extra dimension in the end which corresponds to channel. The images are gray scaled, so 1 channel is used."
   ]
  },
  {
   "cell_type": "code",
   "execution_count": 9,
   "id": "445dc1a2",
   "metadata": {},
   "outputs": [
    {
     "name": "stdout",
     "output_type": "stream",
     "text": [
      "x_train shape:  (42000, 28, 28, 1)\n",
      "test shape:  (28000, 28, 28, 1)\n"
     ]
    }
   ],
   "source": [
    "## RESHAPING ##\n",
    "x_train = x_train.values.reshape(-1,28,28,1)\n",
    "test = test.values.reshape(-1,28,28,1)\n",
    "print(\"x_train shape: \",x_train.shape)\n",
    "print(\"test shape: \",test.shape)"
   ]
  },
  {
   "cell_type": "markdown",
   "id": "03c6f400",
   "metadata": {},
   "source": [
    "#### 2.3 Label Encoding\n",
    "    \n",
    "    *Labels are 10 digits numbers from 0 to 9. It should be encoded to one hot vectors like 2 -> [0,0,1,0,0,0,0,0,0,0]."
   ]
  },
  {
   "cell_type": "code",
   "execution_count": 10,
   "id": "709c73f0",
   "metadata": {},
   "outputs": [],
   "source": [
    "import tensorflow as tf\n",
    "from keras.utils.np_utils import to_categorical"
   ]
  },
  {
   "cell_type": "code",
   "execution_count": 11,
   "id": "595b55fc",
   "metadata": {},
   "outputs": [
    {
     "data": {
      "text/plain": [
       "array([0., 1., 0., 0., 0., 0., 0., 0., 0., 0.], dtype=float32)"
      ]
     },
     "execution_count": 11,
     "metadata": {},
     "output_type": "execute_result"
    }
   ],
   "source": [
    "# Label Encoding \n",
    "y_train = to_categorical(y_train, num_classes=10)\n",
    "y_train[0]"
   ]
  },
  {
   "cell_type": "markdown",
   "id": "0a3e1e40",
   "metadata": {},
   "source": [
    "#### 2.4 Splitting Train and Test Sets"
   ]
  },
  {
   "cell_type": "code",
   "execution_count": 12,
   "id": "3e8ce533",
   "metadata": {},
   "outputs": [
    {
     "name": "stdout",
     "output_type": "stream",
     "text": [
      "x_train shape (37800, 28, 28, 1)\n",
      "x_test shape (4200, 28, 28, 1)\n",
      "y_train shape (37800, 10)\n",
      "y_test shape (4200, 10)\n"
     ]
    }
   ],
   "source": [
    "# Split the train and the validation set for the fitting\n",
    "from sklearn.model_selection import train_test_split\n",
    "X_train, X_val, Y_train, Y_val = train_test_split(x_train, y_train, test_size = 0.1, random_state=2)\n",
    "print(\"x_train shape\",X_train.shape)\n",
    "print(\"x_test shape\",X_val.shape)\n",
    "print(\"y_train shape\",Y_train.shape)\n",
    "print(\"y_test shape\",Y_val.shape)\n"
   ]
  },
  {
   "cell_type": "code",
   "execution_count": 13,
   "id": "5c29dc1f",
   "metadata": {},
   "outputs": [],
   "source": [
    "# Some examples\n",
    "#plt.imshow(x_train[0],cmap='gray')\n",
    "#plt.show()"
   ]
  },
  {
   "cell_type": "markdown",
   "id": "27f1722e",
   "metadata": {},
   "source": [
    "## Modelling First Simple Neural Network "
   ]
  },
  {
   "cell_type": "code",
   "execution_count": null,
   "id": "f4606f30",
   "metadata": {},
   "outputs": [],
   "source": []
  },
  {
   "cell_type": "code",
   "execution_count": 14,
   "id": "03d88a74",
   "metadata": {},
   "outputs": [
    {
     "name": "stdout",
     "output_type": "stream",
     "text": [
      "Epoch 1/10\n",
      "1182/1182 [==============================] - 2s 1ms/step - loss: 0.2876 - accuracy: 0.9115 - val_loss: 0.1704 - val_accuracy: 0.9483\n",
      "Epoch 2/10\n",
      "1182/1182 [==============================] - 2s 1ms/step - loss: 0.1354 - accuracy: 0.9590 - val_loss: 0.1562 - val_accuracy: 0.9510\n",
      "Epoch 3/10\n",
      "1182/1182 [==============================] - 2s 1ms/step - loss: 0.1074 - accuracy: 0.9668 - val_loss: 0.1228 - val_accuracy: 0.9629\n",
      "Epoch 4/10\n",
      "1182/1182 [==============================] - 1s 1ms/step - loss: 0.0874 - accuracy: 0.9733 - val_loss: 0.1054 - val_accuracy: 0.9683\n",
      "Epoch 5/10\n",
      "1182/1182 [==============================] - 2s 1ms/step - loss: 0.0706 - accuracy: 0.9781 - val_loss: 0.1288 - val_accuracy: 0.9662\n",
      "Epoch 6/10\n",
      "1182/1182 [==============================] - 2s 1ms/step - loss: 0.0679 - accuracy: 0.9783 - val_loss: 0.1464 - val_accuracy: 0.9652\n",
      "Epoch 7/10\n",
      "1182/1182 [==============================] - 2s 1ms/step - loss: 0.0582 - accuracy: 0.9814 - val_loss: 0.1433 - val_accuracy: 0.9631\n",
      "Epoch 8/10\n",
      "1182/1182 [==============================] - 1s 1ms/step - loss: 0.0475 - accuracy: 0.9847 - val_loss: 0.1371 - val_accuracy: 0.9671\n",
      "Epoch 9/10\n",
      "1182/1182 [==============================] - 1s 1ms/step - loss: 0.0447 - accuracy: 0.9855 - val_loss: 0.1337 - val_accuracy: 0.9676\n",
      "Epoch 10/10\n",
      "1182/1182 [==============================] - 2s 1ms/step - loss: 0.0434 - accuracy: 0.9864 - val_loss: 0.1311 - val_accuracy: 0.9705\n"
     ]
    }
   ],
   "source": [
    "# Now Model, FIRST SIMPLE LINEAR MODEL #\n",
    "model_1 = tf.keras.Sequential()\n",
    "model_1.add(tf.keras.layers.Flatten())\n",
    "model_1.add(tf.keras.layers.Dense(64, activation=\"relu\"))\n",
    "model_1.add(tf.keras.layers.Dense(32, activation=\"relu\"))\n",
    "model_1.add(tf.keras.layers.Dense(10, activation=\"softmax\"))\n",
    "\n",
    "model_1.compile(loss=tf.keras.losses.CategoricalCrossentropy(),\n",
    "                optimizer=tf.keras.optimizers.Adam(learning_rate=0.003),\n",
    "                metrics=[\"accuracy\"])\n",
    "history1=model_1.fit(X_train, Y_train, epochs=10, validation_data = (X_val,Y_val))"
   ]
  },
  {
   "cell_type": "code",
   "execution_count": 15,
   "id": "47064654",
   "metadata": {},
   "outputs": [
    {
     "data": {
      "text/html": [
       "<div>\n",
       "<style scoped>\n",
       "    .dataframe tbody tr th:only-of-type {\n",
       "        vertical-align: middle;\n",
       "    }\n",
       "\n",
       "    .dataframe tbody tr th {\n",
       "        vertical-align: top;\n",
       "    }\n",
       "\n",
       "    .dataframe thead th {\n",
       "        text-align: right;\n",
       "    }\n",
       "</style>\n",
       "<table border=\"1\" class=\"dataframe\">\n",
       "  <thead>\n",
       "    <tr style=\"text-align: right;\">\n",
       "      <th></th>\n",
       "      <th>loss</th>\n",
       "      <th>accuracy</th>\n",
       "      <th>val_loss</th>\n",
       "      <th>val_accuracy</th>\n",
       "    </tr>\n",
       "  </thead>\n",
       "  <tbody>\n",
       "    <tr>\n",
       "      <th>0</th>\n",
       "      <td>0.287630</td>\n",
       "      <td>0.911481</td>\n",
       "      <td>0.170370</td>\n",
       "      <td>0.948333</td>\n",
       "    </tr>\n",
       "    <tr>\n",
       "      <th>1</th>\n",
       "      <td>0.135394</td>\n",
       "      <td>0.958968</td>\n",
       "      <td>0.156169</td>\n",
       "      <td>0.950952</td>\n",
       "    </tr>\n",
       "    <tr>\n",
       "      <th>2</th>\n",
       "      <td>0.107448</td>\n",
       "      <td>0.966799</td>\n",
       "      <td>0.122838</td>\n",
       "      <td>0.962857</td>\n",
       "    </tr>\n",
       "    <tr>\n",
       "      <th>3</th>\n",
       "      <td>0.087420</td>\n",
       "      <td>0.973307</td>\n",
       "      <td>0.105385</td>\n",
       "      <td>0.968333</td>\n",
       "    </tr>\n",
       "    <tr>\n",
       "      <th>4</th>\n",
       "      <td>0.070579</td>\n",
       "      <td>0.978069</td>\n",
       "      <td>0.128766</td>\n",
       "      <td>0.966190</td>\n",
       "    </tr>\n",
       "    <tr>\n",
       "      <th>5</th>\n",
       "      <td>0.067889</td>\n",
       "      <td>0.978280</td>\n",
       "      <td>0.146365</td>\n",
       "      <td>0.965238</td>\n",
       "    </tr>\n",
       "    <tr>\n",
       "      <th>6</th>\n",
       "      <td>0.058232</td>\n",
       "      <td>0.981402</td>\n",
       "      <td>0.143317</td>\n",
       "      <td>0.963095</td>\n",
       "    </tr>\n",
       "    <tr>\n",
       "      <th>7</th>\n",
       "      <td>0.047531</td>\n",
       "      <td>0.984683</td>\n",
       "      <td>0.137094</td>\n",
       "      <td>0.967143</td>\n",
       "    </tr>\n",
       "    <tr>\n",
       "      <th>8</th>\n",
       "      <td>0.044750</td>\n",
       "      <td>0.985476</td>\n",
       "      <td>0.133723</td>\n",
       "      <td>0.967619</td>\n",
       "    </tr>\n",
       "    <tr>\n",
       "      <th>9</th>\n",
       "      <td>0.043411</td>\n",
       "      <td>0.986376</td>\n",
       "      <td>0.131072</td>\n",
       "      <td>0.970476</td>\n",
       "    </tr>\n",
       "  </tbody>\n",
       "</table>\n",
       "</div>"
      ],
      "text/plain": [
       "       loss  accuracy  val_loss  val_accuracy\n",
       "0  0.287630  0.911481  0.170370      0.948333\n",
       "1  0.135394  0.958968  0.156169      0.950952\n",
       "2  0.107448  0.966799  0.122838      0.962857\n",
       "3  0.087420  0.973307  0.105385      0.968333\n",
       "4  0.070579  0.978069  0.128766      0.966190\n",
       "5  0.067889  0.978280  0.146365      0.965238\n",
       "6  0.058232  0.981402  0.143317      0.963095\n",
       "7  0.047531  0.984683  0.137094      0.967143\n",
       "8  0.044750  0.985476  0.133723      0.967619\n",
       "9  0.043411  0.986376  0.131072      0.970476"
      ]
     },
     "execution_count": 15,
     "metadata": {},
     "output_type": "execute_result"
    }
   ],
   "source": [
    "results = pd.DataFrame(history1.history)\n",
    "results"
   ]
  },
  {
   "cell_type": "code",
   "execution_count": 16,
   "id": "565a0806",
   "metadata": {},
   "outputs": [
    {
     "data": {
      "text/plain": [
       "[<matplotlib.lines.Line2D at 0x7fbb87f92940>]"
      ]
     },
     "execution_count": 16,
     "metadata": {},
     "output_type": "execute_result"
    },
    {
     "data": {
      "image/png": "[encoded data removed]",
      "text/plain": [
       "<Figure size 576x288 with 2 Axes>"
      ]
     },
     "metadata": {
      "needs_background": "light"
     },
     "output_type": "display_data"
    }
   ],
   "source": [
    "plt.figure(figsize=(8,4))\n",
    "y_axis = results.loss# [i for i in results.loss]\n",
    "x_axis = results.accuracy#[i for i in results.accuracy]\n",
    "epochs= [i for i in range(1,11)]\n",
    "plt.subplot(1,2,1)\n",
    "plt.subplots_adjust(left=0.1,\n",
    "                    #bottom=0.1, \n",
    "                    right=0.9, \n",
    "                    #top=0.9, \n",
    "                    wspace=0.4, \n",
    "                    hspace=0.4)\n",
    "                   \n",
    "plt.xlabel(\"epochs\")\n",
    "plt.ylabel(\"accuracy\")\n",
    "plt.plot(epochs,x_axis)\n",
    "plt.subplot(1,2,2)\n",
    "plt.xlabel(\"epochs\")\n",
    "plt.ylabel(\"loss\")\n",
    "plt.plot(epochs,y_axis)\n"
   ]
  },
  {
   "cell_type": "markdown",
   "id": "10a39dab",
   "metadata": {},
   "source": [
    "### CHECK OVERFITTING \n",
    "\n",
    "Recall: Neural Networks receive an input (a single vector), and transform it through a series of hidden layers. Each hidden layer is made up of a set of neurons, where each neuron is fully connected to all neurons in the previous layer, and where neurons in a single layer function completely independently and do not share any connections. The last fully-connected layer is called the “output layer” and in classification settings it represents the class scores.\n",
    "\n",
    "Regular Neural Nets don’t scale well to full images. In CIFAR-10, images are only of size 32x32x3 (32 wide, 32 high, 3 color channels), so a single fully-connected neuron in a first hidden layer of a regular Neural Network would have 32*32*3 = 3072 weights. This amount still seems manageable, but clearly this fully-connected structure does not scale to larger images. For example, an image of more respectable size, e.g. 200x200x3, would lead to neurons that have 200*200*3 = 120,000 weights. Moreover, we would almost certainly want to have several such neurons, so the parameters would add up quickly! Clearly, this full connectivity is wasteful and the huge number of parameters would quickly lead to overfitting.\n",
    "\n",
    "3D volumes of neurons. Convolutional Neural Networks take advantage of the fact that the input consists of images and they constrain the architecture in a more sensible way. In particular, unlike a regular Neural Network, the layers of a ConvNet have neurons arranged in 3 dimensions: width, height, depth. (Note that the word depth here refers to the third dimension of an activation volume, not to the depth of a full Neural Network, which can refer to the total number of layers in a network.) For example, the input images in CIFAR-10 are an input volume of activations, and the volume has dimensions 32x32x3 (width, height, depth respectively). As we will soon see, the neurons in a layer will only be connected to a small region of the layer before it, instead of all of the neurons in a fully-connected manner. Moreover, the final output layer would for CIFAR-10 have dimensions 1x1x10, because by the end of the ConvNet architecture we will reduce the full image into a single vector of class scores, arranged along the depth dimension. \n",
    "\n",
    "More detail can be found : https://cs231n.github.io/convolutional-networks/"
   ]
  },
  {
   "cell_type": "code",
   "execution_count": 17,
   "id": "26864d73",
   "metadata": {},
   "outputs": [
    {
     "data": {
      "image/png": "[encoded data removed]",
      "text/plain": [
       "<Figure size 864x360 with 2 Axes>"
      ]
     },
     "metadata": {
      "needs_background": "light"
     },
     "output_type": "display_data"
    }
   ],
   "source": [
    "# Plot the loss and accuracy curves for training and validation \n",
    "def create_results(history):\n",
    "    results = pd.DataFrame(history.history)\n",
    "    plt.figure(figsize=(12,5))\n",
    "    Train_loss = [i for i in results.loss]\n",
    "    Validation_loss = [i for i in results.val_loss]\n",
    "    Train_accuracy=[i for i in results.accuracy]\n",
    "    Validation_accuracy=[i for i in results.val_accuracy]\n",
    "    epochs= [i for i in range(1,11)]\n",
    "    plt.subplot(1,2,1)\n",
    "    plt.subplots_adjust(left=0.1,\n",
    "                        #bottom=0.1, \n",
    "                        right=0.8, \n",
    "                        #top=0.9, \n",
    "                        wspace=0.2, \n",
    "                        hspace=0.2)\n",
    "\n",
    "    plt.xlabel(\"epochs\")\n",
    "    plt.ylabel(\"accuracy\")\n",
    "    plt.plot(epochs,Train_accuracy,label=\"Training Accuracy\")\n",
    "    #plt.legend(loc='Training Accuracy')\n",
    "    plt.plot(epochs,Validation_accuracy, label=\"Validation Accuracy\")\n",
    "    #plt.plot()\n",
    "    plt.legend()\n",
    "    plt.subplot(1,2,2)\n",
    "    plt.xlabel(\"epochs\")\n",
    "    plt.ylabel(\"loss\")\n",
    "    plt.plot(epochs,Train_loss, label=\"Trainin Loss\")\n",
    "    plt.plot(epochs,Validation_loss, label = \"Validation Loss\")\n",
    "    plt.legend()\n",
    "    plt.show()\n",
    "    return results\n",
    "results1 = create_results(history1)"
   ]
  },
  {
   "cell_type": "markdown",
   "id": "fc714fb6",
   "metadata": {},
   "source": [
    "**!!!  So it looks like an overfitting problem  !!!** The training and validation loss and accuracy values are not parallel and training values are much better than validation values.  There are somethings we could try to solve overfitting the model:\n",
    "\n",
    "* Increasing the number of convolutional layers (for CNN).\n",
    "* Increasing the number of convolutional filters (for CNN)\n",
    "* Adding another dense layer or increasing the number of hidden layers to the output of the flattened layer(for both CNN and Simple Neural networks) ...\n",
    "\n",
    "* But chosen and most generalized method to handle with overfitting for image classification models is Data Augmentation."
   ]
  },
  {
   "cell_type": "markdown",
   "id": "8efd3655",
   "metadata": {},
   "source": [
    "### Dealing with Overfitting: Data Augmentation\n",
    "\n",
    "\n",
    "In order to avoid overfitting problem, we need to expand artificially our handwritten digit dataset. We can make your existing dataset even larger. The idea is to alter the training data with small transformations to reproduce the variations occuring when someone is writing a digit.\n",
    "\n",
    "Data Augmentation is the process of altering our training data, leading to it having more diversity and in turn allowing our models to learn more generalizable patterns. Altering might mean adjusting the rotation of an image, flipping it, cropping it or something similar.\n",
    "\n",
    "For example, the number is not centered \n",
    "The scale is not the same (some who write with big/small numbers)\n",
    "The image is rotated...\n",
    "\n",
    "Approaches that alter the training data in ways that change the array representation while keeping the label the same are known as data augmentation techniques.  \n",
    "\n",
    "By applying just a couple of data augmentation techniques to our training data, we can easily double or triple the number of training examples and create a very robust model.\n",
    "\n",
    "\n",
    "\n",
    " <a href=\"https://ibb.co/k24CUp\"><img src=\"https://preview.ibb.co/nMxXUp/augment.jpg\" alt=\"augment\" border=\"0\"></a>\n",
    "    "
   ]
  },
  {
   "cell_type": "code",
   "execution_count": 18,
   "id": "c3644302",
   "metadata": {},
   "outputs": [],
   "source": [
    "datagen = ImageDataGenerator(\n",
    "        featurewise_center=False,  # set input mean to 0 over the dataset\n",
    "        samplewise_center=False,  # set each sample mean to 0\n",
    "        featurewise_std_normalization=False,  # divide inputs by std of the dataset\n",
    "        samplewise_std_normalization=False,  # divide each input by its std\n",
    "        zca_whitening=False,  # apply ZCA whitening\n",
    "        rotation_range=10,  # randomly rotate images in the range (degrees, 0 to 180)\n",
    "        zoom_range = 0.1, # Randomly zoom image \n",
    "        width_shift_range=0.1,  # randomly shift images horizontally (fraction of total width)\n",
    "        height_shift_range=0.1,  # randomly shift images vertically (fraction of total height)\n",
    "        horizontal_flip=False,  # randomly flip images\n",
    "        vertical_flip=False)  # randomly flip images\n",
    "\n",
    "\n",
    "datagen.fit(X_train)"
   ]
  },
  {
   "cell_type": "code",
   "execution_count": 19,
   "id": "700e79fb",
   "metadata": {},
   "outputs": [
    {
     "name": "stdout",
     "output_type": "stream",
     "text": [
      "Epoch 1/10\n",
      "151/151 [==============================] - 12s 78ms/step - loss: 0.9053 - accuracy: 0.7142 - val_loss: 0.3253 - val_accuracy: 0.9048\n",
      "Epoch 2/10\n",
      "151/151 [==============================] - 12s 78ms/step - loss: 0.4077 - accuracy: 0.8755 - val_loss: 0.2247 - val_accuracy: 0.9333\n",
      "Epoch 3/10\n",
      "151/151 [==============================] - 12s 80ms/step - loss: 0.3106 - accuracy: 0.9062 - val_loss: 0.1868 - val_accuracy: 0.9424\n",
      "Epoch 4/10\n",
      "151/151 [==============================] - 12s 78ms/step - loss: 0.2668 - accuracy: 0.9199 - val_loss: 0.1672 - val_accuracy: 0.9495\n",
      "Epoch 5/10\n",
      "151/151 [==============================] - 12s 78ms/step - loss: 0.2470 - accuracy: 0.9249 - val_loss: 0.1694 - val_accuracy: 0.9469\n",
      "Epoch 6/10\n",
      "151/151 [==============================] - 12s 79ms/step - loss: 0.2298 - accuracy: 0.9320 - val_loss: 0.1476 - val_accuracy: 0.9557\n",
      "Epoch 7/10\n",
      "151/151 [==============================] - 12s 79ms/step - loss: 0.2201 - accuracy: 0.9341 - val_loss: 0.1448 - val_accuracy: 0.9569\n",
      "Epoch 8/10\n",
      "151/151 [==============================] - 12s 78ms/step - loss: 0.2071 - accuracy: 0.9375 - val_loss: 0.1410 - val_accuracy: 0.9562\n",
      "Epoch 9/10\n",
      "151/151 [==============================] - 12s 78ms/step - loss: 0.2006 - accuracy: 0.9398 - val_loss: 0.1319 - val_accuracy: 0.9610\n",
      "Epoch 10/10\n",
      "151/151 [==============================] - 12s 78ms/step - loss: 0.1876 - accuracy: 0.9427 - val_loss: 0.1307 - val_accuracy: 0.9607\n"
     ]
    }
   ],
   "source": [
    "# Now Model, FIRST SIMPLE LINEAR MODEL  with Data Augmentation#\n",
    "\n",
    "model_1 = tf.keras.Sequential()\n",
    "model_1.add(tf.keras.layers.Flatten())\n",
    "model_1.add(tf.keras.layers.Dense(64, activation=\"relu\"))\n",
    "model_1.add(tf.keras.layers.Dense(32, activation=\"relu\"))\n",
    "model_1.add(tf.keras.layers.Dense(10, activation=\"softmax\"))\n",
    "\n",
    "model_1.compile(loss=tf.keras.losses.CategoricalCrossentropy(),\n",
    "                optimizer=tf.keras.optimizers.Adam(learning_rate=0.003),\n",
    "                metrics=[\"accuracy\"])\n",
    "history = model_1.fit_generator(datagen.flow(X_train,Y_train, batch_size=250),\n",
    "                              epochs =10, validation_data = (X_val,Y_val), steps_per_epoch=X_train.shape[0] // 250)"
   ]
  },
  {
   "cell_type": "code",
   "execution_count": 20,
   "id": "b06d7182",
   "metadata": {},
   "outputs": [
    {
     "data": {
      "image/png": "[encoded data removed]",
      "text/plain": [
       "<Figure size 864x360 with 2 Axes>"
      ]
     },
     "metadata": {
      "needs_background": "light"
     },
     "output_type": "display_data"
    }
   ],
   "source": [
    "# Plot the loss and accuracy curves for training and validation \n",
    "results2=create_results(history)"
   ]
  },
  {
   "cell_type": "markdown",
   "id": "6d2f78b4",
   "metadata": {},
   "source": [
    "**!!!  It looks better !!!*** Paralell and validation values are much better than training. Model_1 took long time with data augmentation than simple neural network without data augmentation since data augmentation increses the training data sizes."
   ]
  },
  {
   "cell_type": "markdown",
   "id": "455cf1cf",
   "metadata": {},
   "source": [
    "## Now Convolutional Neural Network (CNN) Method"
   ]
  },
  {
   "cell_type": "code",
   "execution_count": 21,
   "id": "2fdf70ab",
   "metadata": {},
   "outputs": [
    {
     "name": "stdout",
     "output_type": "stream",
     "text": [
      "Epoch 1/10\n",
      "151/151 [==============================] - 14s 88ms/step - loss: 0.7299 - accuracy: 0.7729 - val_loss: 0.1623 - val_accuracy: 0.9550\n",
      "Epoch 2/10\n",
      "151/151 [==============================] - 13s 88ms/step - loss: 0.2114 - accuracy: 0.9361 - val_loss: 0.1267 - val_accuracy: 0.9633\n",
      "Epoch 3/10\n",
      "151/151 [==============================] - 13s 87ms/step - loss: 0.1555 - accuracy: 0.9536 - val_loss: 0.1157 - val_accuracy: 0.9645\n",
      "Epoch 4/10\n",
      "151/151 [==============================] - 13s 86ms/step - loss: 0.1291 - accuracy: 0.9606 - val_loss: 0.0886 - val_accuracy: 0.9769\n",
      "Epoch 5/10\n",
      "151/151 [==============================] - 13s 87ms/step - loss: 0.1112 - accuracy: 0.9661 - val_loss: 0.0787 - val_accuracy: 0.9740\n",
      "Epoch 6/10\n",
      "151/151 [==============================] - 13s 86ms/step - loss: 0.1008 - accuracy: 0.9685 - val_loss: 0.0646 - val_accuracy: 0.9802\n",
      "Epoch 7/10\n",
      "151/151 [==============================] - 13s 87ms/step - loss: 0.0903 - accuracy: 0.9718 - val_loss: 0.0580 - val_accuracy: 0.9836\n",
      "Epoch 8/10\n",
      "151/151 [==============================] - 13s 88ms/step - loss: 0.0839 - accuracy: 0.9736 - val_loss: 0.0523 - val_accuracy: 0.9833\n",
      "Epoch 9/10\n",
      "151/151 [==============================] - 14s 90ms/step - loss: 0.0759 - accuracy: 0.9758 - val_loss: 0.0621 - val_accuracy: 0.9802\n",
      "Epoch 10/10\n",
      "151/151 [==============================] - 13s 89ms/step - loss: 0.0711 - accuracy: 0.9783 - val_loss: 0.0499 - val_accuracy: 0.9871\n"
     ]
    }
   ],
   "source": [
    "model2=tf.keras.Sequential()\n",
    "\n",
    "model2.add(tf.keras.layers.Conv2D(filters=8, kernel_size=(5,5), padding=\"Same\", activation =\"relu\"))#, input_shape=(28,28,2)))\n",
    "model2.add(tf.keras.layers.MaxPool2D(pool_size=(2,2)))\n",
    "#model.add(tf.keras.Dropout(0.25))\n",
    "\n",
    "model2.add(tf.keras.layers.Conv2D(filters=16, kernel_size=(3,3), padding=\"Same\", activation =\"relu\"))\n",
    "model2.add(tf.keras.layers.MaxPool2D(pool_size=(2,2)))\n",
    "#model.add(tf.keras.Dropout(0.25))\n",
    "\n",
    "model2.add(tf.keras.layers.Flatten())\n",
    "model2.add(tf.keras.layers.Dense(256, activation=\"relu\"))\n",
    "model2.add(tf.keras.layers.Dense(10, activation=\"softmax\"))\n",
    "\n",
    "model2.compile(loss=tf.keras.losses.CategoricalCrossentropy(),\n",
    "              optimizer = tf.keras.optimizers.Adam(learning_rate=0.001,beta_1=0.9, beta_2=0.999),\n",
    "              metrics=[\"accuracy\"])\n",
    "history2 = model2.fit_generator(datagen.flow(X_train,Y_train, batch_size=250),\n",
    "                              epochs =10, validation_data = (X_val,Y_val), steps_per_epoch=X_train.shape[0] // 250)\n",
    "#model.fit(X_train,Y_train,epochs=10,batch_size=250)"
   ]
  },
  {
   "cell_type": "code",
   "execution_count": null,
   "id": "a6bfb325",
   "metadata": {},
   "outputs": [],
   "source": []
  },
  {
   "cell_type": "code",
   "execution_count": 22,
   "id": "ca34b560",
   "metadata": {},
   "outputs": [
    {
     "data": {
      "image/png": "[encoded data removed]",
      "text/plain": [
       "<Figure size 864x360 with 2 Axes>"
      ]
     },
     "metadata": {
      "needs_background": "light"
     },
     "output_type": "display_data"
    }
   ],
   "source": [
    "results3=create_results(history2)"
   ]
  },
  {
   "cell_type": "markdown",
   "id": "c84b2b12",
   "metadata": {},
   "source": [
    "**CNN GIVES BETTER RESULTS AS EXPECTED** And it takes shorter time as mention at the part of Data Augmentation."
   ]
  },
  {
   "cell_type": "markdown",
   "id": "a9fcb767",
   "metadata": {},
   "source": [
    "### Now Predict and Show Results"
   ]
  },
  {
   "cell_type": "code",
   "execution_count": 24,
   "id": "de8fca5d",
   "metadata": {},
   "outputs": [
    {
     "name": "stdout",
     "output_type": "stream",
     "text": [
      "132/132 [==============================] - 0s 3ms/step\n"
     ]
    },
    {
     "data": {
      "image/png": "[encoded data removed]",
      "text/plain": [
       "<Figure size 576x576 with 2 Axes>"
      ]
     },
     "metadata": {
      "needs_background": "light"
     },
     "output_type": "display_data"
    }
   ],
   "source": [
    "# confusion matrix\n",
    "import seaborn as sns\n",
    "#To predict the values from the validation dataset\n",
    "y_pred = model2.predict(X_val)\n",
    "#To convert predictions classes to one hot vectors \n",
    "y_pred_classes = np.argmax(y_pred,axis = 1) \n",
    "# To convert validation observations to one hot vectors\n",
    "y_true = np.argmax(Y_val,axis = 1) \n",
    "# To compute the confusion matrix\n",
    "confusion_mtx = confusion_matrix(y_true, y_pred_classes) \n",
    "# plot the confusion matrix\n",
    "f,ax = plt.subplots(figsize=(8, 8))\n",
    "sns.heatmap(confusion_mtx, annot=True, linewidths=0.01,cmap=\"Greens\",linecolor=\"gray\", fmt= '.1f',ax=ax)\n",
    "plt.xlabel(\"Prediction Labels\")\n",
    "plt.ylabel(\"True Labels\")\n",
    "plt.title(\"Confusion Matrix\")\n",
    "plt.show()"
   ]
  },
  {
   "cell_type": "code",
   "execution_count": 25,
   "id": "283fb762",
   "metadata": {},
   "outputs": [
    {
     "name": "stdout",
     "output_type": "stream",
     "text": [
      "875/875 [==============================] - 2s 3ms/step\n"
     ]
    }
   ],
   "source": [
    "# To predict results\n",
    "results = model2.predict(test)\n",
    "\n",
    "# select the index with the maximum probability\n",
    "results = np.argmax(results,axis = 1)\n",
    "\n",
    "results = pd.Series(results,name=\"Label\")\n",
    "Image_id=pd.Series(range(1,28001),name = \"ImageId\")\n",
    "submission = pd.concat([Image_id,results],axis = 1)\n",
    "\n",
    "submission.to_csv(\"Submission.csv\")"
   ]
  },
  {
   "cell_type": "code",
   "execution_count": 29,
   "id": "dea9d3c8",
   "metadata": {},
   "outputs": [
    {
     "data": {
      "text/html": [
       "<div>\n",
       "<style scoped>\n",
       "    .dataframe tbody tr th:only-of-type {\n",
       "        vertical-align: middle;\n",
       "    }\n",
       "\n",
       "    .dataframe tbody tr th {\n",
       "        vertical-align: top;\n",
       "    }\n",
       "\n",
       "    .dataframe thead th {\n",
       "        text-align: right;\n",
       "    }\n",
       "</style>\n",
       "<table border=\"1\" class=\"dataframe\">\n",
       "  <thead>\n",
       "    <tr style=\"text-align: right;\">\n",
       "      <th></th>\n",
       "      <th>ImageId</th>\n",
       "      <th>Label</th>\n",
       "    </tr>\n",
       "  </thead>\n",
       "  <tbody>\n",
       "    <tr>\n",
       "      <th>0</th>\n",
       "      <td>1</td>\n",
       "      <td>2</td>\n",
       "    </tr>\n",
       "    <tr>\n",
       "      <th>1</th>\n",
       "      <td>2</td>\n",
       "      <td>0</td>\n",
       "    </tr>\n",
       "    <tr>\n",
       "      <th>2</th>\n",
       "      <td>3</td>\n",
       "      <td>9</td>\n",
       "    </tr>\n",
       "    <tr>\n",
       "      <th>3</th>\n",
       "      <td>4</td>\n",
       "      <td>0</td>\n",
       "    </tr>\n",
       "    <tr>\n",
       "      <th>4</th>\n",
       "      <td>5</td>\n",
       "      <td>3</td>\n",
       "    </tr>\n",
       "    <tr>\n",
       "      <th>...</th>\n",
       "      <td>...</td>\n",
       "      <td>...</td>\n",
       "    </tr>\n",
       "    <tr>\n",
       "      <th>27995</th>\n",
       "      <td>27996</td>\n",
       "      <td>9</td>\n",
       "    </tr>\n",
       "    <tr>\n",
       "      <th>27996</th>\n",
       "      <td>27997</td>\n",
       "      <td>7</td>\n",
       "    </tr>\n",
       "    <tr>\n",
       "      <th>27997</th>\n",
       "      <td>27998</td>\n",
       "      <td>3</td>\n",
       "    </tr>\n",
       "    <tr>\n",
       "      <th>27998</th>\n",
       "      <td>27999</td>\n",
       "      <td>9</td>\n",
       "    </tr>\n",
       "    <tr>\n",
       "      <th>27999</th>\n",
       "      <td>28000</td>\n",
       "      <td>2</td>\n",
       "    </tr>\n",
       "  </tbody>\n",
       "</table>\n",
       "<p>28000 rows × 2 columns</p>\n",
       "</div>"
      ],
      "text/plain": [
       "       ImageId  Label\n",
       "0            1      2\n",
       "1            2      0\n",
       "2            3      9\n",
       "3            4      0\n",
       "4            5      3\n",
       "...        ...    ...\n",
       "27995    27996      9\n",
       "27996    27997      7\n",
       "27997    27998      3\n",
       "27998    27999      9\n",
       "27999    28000      2\n",
       "\n",
       "[28000 rows x 2 columns]"
      ]
     },
     "execution_count": 29,
     "metadata": {},
     "output_type": "execute_result"
    }
   ],
   "source": [
    "submission\n"
   ]
  },
  {
   "cell_type": "code",
   "execution_count": null,
   "id": "73f8252e",
   "metadata": {},
   "outputs": [],
   "source": []
  },
  {
   "cell_type": "code",
   "execution_count": null,
   "id": "5d09f065",
   "metadata": {},
   "outputs": [],
   "source": []
  },
  {
   "cell_type": "code",
   "execution_count": null,
   "id": "e657fe40",
   "metadata": {},
   "outputs": [],
   "source": []
  },
  {
   "cell_type": "code",
   "execution_count": null,
   "id": "5e13f5f7",
   "metadata": {},
   "outputs": [],
   "source": []
  },
  {
   "cell_type": "code",
   "execution_count": null,
   "id": "c2756585",
   "metadata": {},
   "outputs": [],
   "source": []
  },
  {
   "cell_type": "code",
   "execution_count": null,
   "id": "b4a41136",
   "metadata": {},
   "outputs": [],
   "source": []
  },
  {
   "cell_type": "code",
   "execution_count": null,
   "id": "a8b5a3b2",
   "metadata": {},
   "outputs": [],
   "source": []
  },
  {
   "cell_type": "code",
   "execution_count": null,
   "id": "a01fb817",
   "metadata": {},
   "outputs": [],
   "source": []
  },
  {
   "cell_type": "code",
   "execution_count": null,
   "id": "b37fe441",
   "metadata": {},
   "outputs": [],
   "source": []
  },
  {
   "cell_type": "code",
   "execution_count": null,
   "id": "c426204d",
   "metadata": {},
   "outputs": [],
   "source": []
  },
  {
   "cell_type": "code",
   "execution_count": null,
   "id": "e1dfb62e",
   "metadata": {},
   "outputs": [],
   "source": []
  },
  {
   "cell_type": "code",
   "execution_count": null,
   "id": "f7d5d1d1",
   "metadata": {},
   "outputs": [],
   "source": []
  },
  {
   "cell_type": "code",
   "execution_count": null,
   "id": "250d016b",
   "metadata": {},
   "outputs": [],
   "source": []
  },
  {
   "cell_type": "code",
   "execution_count": null,
   "id": "999193e3",
   "metadata": {},
   "outputs": [],
   "source": []
  },
  {
   "cell_type": "code",
   "execution_count": null,
   "id": "717d379a",
   "metadata": {},
   "outputs": [],
   "source": []
  },
  {
   "cell_type": "code",
   "execution_count": null,
   "id": "29bc0119",
   "metadata": {},
   "outputs": [],
   "source": []
  },
  {
   "cell_type": "code",
   "execution_count": null,
   "id": "057085b9",
   "metadata": {},
   "outputs": [],
   "source": []
  },
  {
   "cell_type": "code",
   "execution_count": null,
   "id": "004aa225",
   "metadata": {},
   "outputs": [],
   "source": []
  },
  {
   "cell_type": "code",
   "execution_count": null,
   "id": "a3cf66fa",
   "metadata": {},
   "outputs": [],
   "source": []
  },
  {
   "cell_type": "code",
   "execution_count": null,
   "id": "eb2b31b4",
   "metadata": {},
   "outputs": [],
   "source": []
  },
  {
   "cell_type": "code",
   "execution_count": null,
   "id": "f4b81ac7",
   "metadata": {},
   "outputs": [],
   "source": []
  },
  {
   "cell_type": "code",
   "execution_count": null,
   "id": "3b397fa8",
   "metadata": {},
   "outputs": [],
   "source": []
  },
  {
   "cell_type": "code",
   "execution_count": null,
   "id": "db0f5f73",
   "metadata": {},
   "outputs": [],
   "source": []
  },
  {
   "cell_type": "code",
   "execution_count": null,
   "id": "0f641e94",
   "metadata": {},
   "outputs": [],
   "source": []
  },
  {
   "cell_type": "code",
   "execution_count": null,
   "id": "6f26b0a2",
   "metadata": {},
   "outputs": [],
   "source": []
  },
  {
   "cell_type": "code",
   "execution_count": null,
   "id": "82619fa7",
   "metadata": {},
   "outputs": [],
   "source": []
  },
  {
   "cell_type": "code",
   "execution_count": null,
   "id": "bb69cafa",
   "metadata": {},
   "outputs": [],
   "source": []
  },
  {
   "cell_type": "code",
   "execution_count": null,
   "id": "1ca8b9fc",
   "metadata": {},
   "outputs": [],
   "source": []
  },
  {
   "cell_type": "code",
   "execution_count": null,
   "id": "71bfd869",
   "metadata": {},
   "outputs": [],
   "source": []
  },
  {
   "cell_type": "code",
   "execution_count": null,
   "id": "0c5079b1",
   "metadata": {},
   "outputs": [],
   "source": []
  },
  {
   "cell_type": "code",
   "execution_count": null,
   "id": "248fd085",
   "metadata": {},
   "outputs": [],
   "source": []
  },
  {
   "cell_type": "code",
   "execution_count": null,
   "id": "cc709d8d",
   "metadata": {},
   "outputs": [],
   "source": []
  },
  {
   "cell_type": "code",
   "execution_count": null,
   "id": "671b84de",
   "metadata": {},
   "outputs": [],
   "source": []
  },
  {
   "cell_type": "code",
   "execution_count": null,
   "id": "73da6773",
   "metadata": {},
   "outputs": [],
   "source": []
  },
  {
   "cell_type": "code",
   "execution_count": null,
   "id": "b986eca8",
   "metadata": {},
   "outputs": [],
   "source": []
  },
  {
   "cell_type": "code",
   "execution_count": null,
   "id": "5b3bd605",
   "metadata": {},
   "outputs": [],
   "source": []
  },
  {
   "cell_type": "code",
   "execution_count": null,
   "id": "dc18cf88",
   "metadata": {},
   "outputs": [],
   "source": []
  },
  {
   "cell_type": "code",
   "execution_count": null,
   "id": "a714b781",
   "metadata": {},
   "outputs": [],
   "source": []
  },
  {
   "cell_type": "code",
   "execution_count": null,
   "id": "125f7e39",
   "metadata": {},
   "outputs": [],
   "source": []
  },
  {
   "cell_type": "code",
   "execution_count": null,
   "id": "0f7dd93d",
   "metadata": {},
   "outputs": [],
   "source": []
  },
  {
   "cell_type": "code",
   "execution_count": null,
   "id": "39a3945d",
   "metadata": {},
   "outputs": [],
   "source": []
  },
  {
   "cell_type": "code",
   "execution_count": null,
   "id": "b27ba188",
   "metadata": {},
   "outputs": [],
   "source": []
  },
  {
   "cell_type": "code",
   "execution_count": null,
   "id": "55c99939",
   "metadata": {},
   "outputs": [],
   "source": []
  },
  {
   "cell_type": "code",
   "execution_count": null,
   "id": "f86351a1",
   "metadata": {},
   "outputs": [],
   "source": []
  },
  {
   "cell_type": "code",
   "execution_count": null,
   "id": "1480ab3c",
   "metadata": {},
   "outputs": [],
   "source": []
  },
  {
   "cell_type": "code",
   "execution_count": null,
   "id": "5c356ab8",
   "metadata": {},
   "outputs": [],
   "source": []
  },
  {
   "cell_type": "code",
   "execution_count": null,
   "id": "cfdfc4db",
   "metadata": {},
   "outputs": [],
   "source": []
  },
  {
   "cell_type": "code",
   "execution_count": null,
   "id": "c26d1027",
   "metadata": {},
   "outputs": [],
   "source": []
  },
  {
   "cell_type": "code",
   "execution_count": null,
   "id": "a06dc330",
   "metadata": {},
   "outputs": [],
   "source": []
  },
  {
   "cell_type": "code",
   "execution_count": null,
   "id": "f18693dd",
   "metadata": {},
   "outputs": [],
   "source": []
  },
  {
   "cell_type": "code",
   "execution_count": null,
   "id": "8b5d5ae5",
   "metadata": {},
   "outputs": [],
   "source": []
  },
  {
   "cell_type": "code",
   "execution_count": null,
   "id": "cc89f117",
   "metadata": {},
   "outputs": [],
   "source": []
  },
  {
   "cell_type": "code",
   "execution_count": null,
   "id": "91054b91",
   "metadata": {},
   "outputs": [],
   "source": []
  },
  {
   "cell_type": "code",
   "execution_count": null,
   "id": "dd147fa3",
   "metadata": {},
   "outputs": [],
   "source": []
  },
  {
   "cell_type": "code",
   "execution_count": null,
   "id": "4ff2138b",
   "metadata": {},
   "outputs": [],
   "source": []
  },
  {
   "cell_type": "code",
   "execution_count": null,
   "id": "f064f0de",
   "metadata": {},
   "outputs": [],
   "source": []
  },
  {
   "cell_type": "code",
   "execution_count": null,
   "id": "154912f8",
   "metadata": {},
   "outputs": [],
   "source": []
  },
  {
   "cell_type": "code",
   "execution_count": null,
   "id": "5021e6b9",
   "metadata": {},
   "outputs": [],
   "source": []
  },
  {
   "cell_type": "code",
   "execution_count": null,
   "id": "a01d4c0c",
   "metadata": {},
   "outputs": [],
   "source": []
  },
  {
   "cell_type": "code",
   "execution_count": null,
   "id": "587ed66e",
   "metadata": {},
   "outputs": [],
   "source": []
  },
  {
   "cell_type": "code",
   "execution_count": null,
   "id": "eae9c89c",
   "metadata": {},
   "outputs": [],
   "source": []
  },
  {
   "cell_type": "code",
   "execution_count": null,
   "id": "9c5ac2a1",
   "metadata": {},
   "outputs": [],
   "source": []
  }
 ],
 "metadata": {
  "kernelspec": {
   "display_name": "Python 3",
   "language": "python",
   "name": "python3"
  },
  "language_info": {
   "codemirror_mode": {
    "name": "ipython",
    "version": 3
   },
   "file_extension": ".py",
   "mimetype": "text/x-python",
   "name": "python",
   "nbconvert_exporter": "python",
   "pygments_lexer": "ipython3",
   "version": "3.8.8"
  }
 },
 "nbformat": 4,
 "nbformat_minor": 5
}
