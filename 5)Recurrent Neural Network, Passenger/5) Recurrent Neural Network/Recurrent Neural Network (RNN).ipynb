{
 "cells": [
  {
   "cell_type": "markdown",
   "metadata": {},
   "source": []
  },
  {
   "cell_type": "markdown",
   "metadata": {},
   "source": [
    "## Content\n",
    "* [Sequence Models](#1)\n",
    "* [Recurrent Neural Network (RNN)](#2)\n",
    "* [Implementing Recurrent Neural Network with Keras](#3)\n",
    "    * [Loading and Preprocessing Data](#31)\n",
    "    * [Create RNN Model](#32)\n",
    "    * [Predictions and Visualising RNN Model](#33)\n",
    "* [Long Short Term Memory (LSTMs)](#4)\n",
    "* [Implementing Long Short Term Memory with Keras](#99)\n",
    "    * [Loading and Visualizing Data](#41)\n",
    "    * [Preprocessing Data](#42)\n",
    "    * [Create LSTM Model](#43)\n",
    "    * [Predictions and Visualising LSTM Model](#44)\n",
    "* [Conclusion](#6)"
   ]
  },
  {
   "cell_type": "markdown",
   "metadata": {},
   "source": [
    " "
   ]
  },
  {
   "cell_type": "markdown",
   "metadata": {},
   "source": [
    "\n"
   ]
  },
  {
   "cell_type": "markdown",
   "metadata": {},
   "source": [
    "<a id=\"3\"></a>\n",
    "## Implementing Recurrent Neural Network with Keras\n",
    "* [Loading and Preprocessing Data](#31)\n",
    "* [Create RNN Model](#32)\n",
    "* [Predictions and Visualising RNN Model](#33)"
   ]
  },
  {
   "cell_type": "markdown",
   "metadata": {},
   "source": [
    "<a id=\"31\"></a>\n",
    "### Loading and Preprocessing Data"
   ]
  },
  {
   "cell_type": "code",
   "execution_count": 1,
   "metadata": {},
   "outputs": [],
   "source": [
    "# Importing the libraries\n",
    "import numpy as np\n",
    "import matplotlib.pyplot as plt\n",
    "import pandas as pd\n",
    "import warnings\n",
    "warnings.filterwarnings('ignore')"
   ]
  },
  {
   "cell_type": "code",
   "execution_count": 2,
   "metadata": {},
   "outputs": [],
   "source": [
    "# Importing the training set\n",
    "dataset_train = pd.read_csv('Stock_Price_Train.csv')"
   ]
  },
  {
   "cell_type": "code",
   "execution_count": 3,
   "metadata": {},
   "outputs": [
    {
     "data": {
      "text/html": [
       "<div>\n",
       "<style scoped>\n",
       "    .dataframe tbody tr th:only-of-type {\n",
       "        vertical-align: middle;\n",
       "    }\n",
       "\n",
       "    .dataframe tbody tr th {\n",
       "        vertical-align: top;\n",
       "    }\n",
       "\n",
       "    .dataframe thead th {\n",
       "        text-align: right;\n",
       "    }\n",
       "</style>\n",
       "<table border=\"1\" class=\"dataframe\">\n",
       "  <thead>\n",
       "    <tr style=\"text-align: right;\">\n",
       "      <th></th>\n",
       "      <th>Date</th>\n",
       "      <th>Open</th>\n",
       "      <th>High</th>\n",
       "      <th>Low</th>\n",
       "      <th>Close</th>\n",
       "      <th>Volume</th>\n",
       "    </tr>\n",
       "  </thead>\n",
       "  <tbody>\n",
       "    <tr>\n",
       "      <th>0</th>\n",
       "      <td>1/3/2012</td>\n",
       "      <td>325.25</td>\n",
       "      <td>332.83</td>\n",
       "      <td>324.97</td>\n",
       "      <td>663.59</td>\n",
       "      <td>7,380,500</td>\n",
       "    </tr>\n",
       "    <tr>\n",
       "      <th>1</th>\n",
       "      <td>1/4/2012</td>\n",
       "      <td>331.27</td>\n",
       "      <td>333.87</td>\n",
       "      <td>329.08</td>\n",
       "      <td>666.45</td>\n",
       "      <td>5,749,400</td>\n",
       "    </tr>\n",
       "    <tr>\n",
       "      <th>2</th>\n",
       "      <td>1/5/2012</td>\n",
       "      <td>329.83</td>\n",
       "      <td>330.75</td>\n",
       "      <td>326.89</td>\n",
       "      <td>657.21</td>\n",
       "      <td>6,590,300</td>\n",
       "    </tr>\n",
       "    <tr>\n",
       "      <th>3</th>\n",
       "      <td>1/6/2012</td>\n",
       "      <td>328.34</td>\n",
       "      <td>328.77</td>\n",
       "      <td>323.68</td>\n",
       "      <td>648.24</td>\n",
       "      <td>5,405,900</td>\n",
       "    </tr>\n",
       "    <tr>\n",
       "      <th>4</th>\n",
       "      <td>1/9/2012</td>\n",
       "      <td>322.04</td>\n",
       "      <td>322.29</td>\n",
       "      <td>309.46</td>\n",
       "      <td>620.76</td>\n",
       "      <td>11,688,800</td>\n",
       "    </tr>\n",
       "  </tbody>\n",
       "</table>\n",
       "</div>"
      ],
      "text/plain": [
       "       Date    Open    High     Low   Close      Volume\n",
       "0  1/3/2012  325.25  332.83  324.97  663.59   7,380,500\n",
       "1  1/4/2012  331.27  333.87  329.08  666.45   5,749,400\n",
       "2  1/5/2012  329.83  330.75  326.89  657.21   6,590,300\n",
       "3  1/6/2012  328.34  328.77  323.68  648.24   5,405,900\n",
       "4  1/9/2012  322.04  322.29  309.46  620.76  11,688,800"
      ]
     },
     "execution_count": 3,
     "metadata": {},
     "output_type": "execute_result"
    }
   ],
   "source": [
    "dataset_train.head()"
   ]
  },
  {
   "cell_type": "code",
   "execution_count": 4,
   "metadata": {},
   "outputs": [
    {
     "data": {
      "text/plain": [
       "array([[325.25],\n",
       "       [331.27],\n",
       "       [329.83],\n",
       "       ...,\n",
       "       [793.7 ],\n",
       "       [783.33],\n",
       "       [782.75]])"
      ]
     },
     "execution_count": 4,
     "metadata": {},
     "output_type": "execute_result"
    }
   ],
   "source": [
    "train = dataset_train.loc[:, [\"Open\"]].values\n",
    "train"
   ]
  },
  {
   "cell_type": "code",
   "execution_count": 5,
   "metadata": {},
   "outputs": [
    {
     "data": {
      "text/plain": [
       "array([[0.08581368],\n",
       "       [0.09701243],\n",
       "       [0.09433366],\n",
       "       ...,\n",
       "       [0.95725128],\n",
       "       [0.93796041],\n",
       "       [0.93688146]])"
      ]
     },
     "execution_count": 5,
     "metadata": {},
     "output_type": "execute_result"
    }
   ],
   "source": [
    "# Feature Scaling\n",
    "from sklearn.preprocessing import MinMaxScaler\n",
    "scaler = MinMaxScaler(feature_range = (0, 1))\n",
    "train_scaled = scaler.fit_transform(train)\n",
    "train_scaled\n"
   ]
  },
  {
   "cell_type": "code",
   "execution_count": 6,
   "metadata": {},
   "outputs": [
    {
     "data": {
      "image/png": "[encoded data removed]",
      "text/plain": [
       "<Figure size 432x288 with 1 Axes>"
      ]
     },
     "metadata": {
      "needs_background": "light"
     },
     "output_type": "display_data"
    }
   ],
   "source": [
    "plt.plot(train_scaled)\n",
    "plt.show()"
   ]
  },
  {
   "cell_type": "code",
   "execution_count": 7,
   "metadata": {},
   "outputs": [],
   "source": [
    "# Creating a data structure with 50 timesteps and 1 output\n",
    "X_train = []\n",
    "y_train = []\n",
    "timesteps = 50\n",
    "for i in range(timesteps, 1258):\n",
    "    X_train.append(train_scaled[i-timesteps:i, 0])\n",
    "    y_train.append(train_scaled[i, 0])\n",
    "X_train, y_train = np.array(X_train), np.array(y_train)"
   ]
  },
  {
   "cell_type": "code",
   "execution_count": 8,
   "metadata": {},
   "outputs": [
    {
     "data": {
      "text/plain": [
       "(1208, 50, 1)"
      ]
     },
     "execution_count": 8,
     "metadata": {},
     "output_type": "execute_result"
    }
   ],
   "source": [
    "# Reshaping\n",
    "X_train = np.reshape(X_train, (X_train.shape[0], X_train.shape[1], 1))\n",
    "X_train.shape"
   ]
  },
  {
   "cell_type": "code",
   "execution_count": 9,
   "metadata": {},
   "outputs": [
    {
     "data": {
      "text/plain": [
       "(1208,)"
      ]
     },
     "execution_count": 9,
     "metadata": {},
     "output_type": "execute_result"
    }
   ],
   "source": [
    "y_train.shape"
   ]
  },
  {
   "cell_type": "markdown",
   "metadata": {},
   "source": [
    "<a id=\"32\"></a>\n",
    "### Create RNN Model"
   ]
  },
  {
   "cell_type": "code",
   "execution_count": 10,
   "metadata": {
    "scrolled": true
   },
   "outputs": [
    {
     "name": "stdout",
     "output_type": "stream",
     "text": [
      "Epoch 1/100\n",
      "38/38 [==============================] - 2s 16ms/step - loss: 0.5957\n",
      "Epoch 2/100\n",
      "38/38 [==============================] - 1s 16ms/step - loss: 0.3050\n",
      "Epoch 3/100\n",
      "38/38 [==============================] - 1s 16ms/step - loss: 0.2176\n",
      "Epoch 4/100\n",
      "38/38 [==============================] - 1s 16ms/step - loss: 0.1695\n",
      "Epoch 5/100\n",
      "38/38 [==============================] - 1s 16ms/step - loss: 0.1271\n",
      "Epoch 6/100\n",
      "38/38 [==============================] - 1s 16ms/step - loss: 0.1127\n",
      "Epoch 7/100\n",
      "38/38 [==============================] - 1s 16ms/step - loss: 0.0974\n",
      "Epoch 8/100\n",
      "38/38 [==============================] - 1s 16ms/step - loss: 0.0858\n",
      "Epoch 9/100\n",
      "38/38 [==============================] - 1s 16ms/step - loss: 0.0725\n",
      "Epoch 10/100\n",
      "38/38 [==============================] - 1s 16ms/step - loss: 0.0622\n",
      "Epoch 11/100\n",
      "38/38 [==============================] - 1s 16ms/step - loss: 0.0590\n",
      "Epoch 12/100\n",
      "38/38 [==============================] - 1s 16ms/step - loss: 0.0518\n",
      "Epoch 13/100\n",
      "38/38 [==============================] - 1s 16ms/step - loss: 0.0421\n",
      "Epoch 14/100\n",
      "38/38 [==============================] - 1s 16ms/step - loss: 0.0387\n",
      "Epoch 15/100\n",
      "38/38 [==============================] - 1s 16ms/step - loss: 0.0330\n",
      "Epoch 16/100\n",
      "38/38 [==============================] - 1s 16ms/step - loss: 0.0328\n",
      "Epoch 17/100\n",
      "38/38 [==============================] - 1s 16ms/step - loss: 0.0293\n",
      "Epoch 18/100\n",
      "38/38 [==============================] - 1s 16ms/step - loss: 0.0285\n",
      "Epoch 19/100\n",
      "38/38 [==============================] - 1s 16ms/step - loss: 0.0257\n",
      "Epoch 20/100\n",
      "38/38 [==============================] - 1s 16ms/step - loss: 0.0255\n",
      "Epoch 21/100\n",
      "38/38 [==============================] - 1s 16ms/step - loss: 0.0204\n",
      "Epoch 22/100\n",
      "38/38 [==============================] - 1s 16ms/step - loss: 0.0180\n",
      "Epoch 23/100\n",
      "38/38 [==============================] - 1s 16ms/step - loss: 0.0186\n",
      "Epoch 24/100\n",
      "38/38 [==============================] - 1s 16ms/step - loss: 0.0172\n",
      "Epoch 25/100\n",
      "38/38 [==============================] - 1s 16ms/step - loss: 0.0172\n",
      "Epoch 26/100\n",
      "38/38 [==============================] - 1s 16ms/step - loss: 0.0160\n",
      "Epoch 27/100\n",
      "38/38 [==============================] - 1s 16ms/step - loss: 0.0140\n",
      "Epoch 28/100\n",
      "38/38 [==============================] - 1s 16ms/step - loss: 0.0136\n",
      "Epoch 29/100\n",
      "38/38 [==============================] - 1s 16ms/step - loss: 0.0120\n",
      "Epoch 30/100\n",
      "38/38 [==============================] - 1s 16ms/step - loss: 0.0114\n",
      "Epoch 31/100\n",
      "38/38 [==============================] - 1s 16ms/step - loss: 0.0121\n",
      "Epoch 32/100\n",
      "38/38 [==============================] - 1s 16ms/step - loss: 0.0101\n",
      "Epoch 33/100\n",
      "38/38 [==============================] - 1s 16ms/step - loss: 0.0097\n",
      "Epoch 34/100\n",
      "38/38 [==============================] - 1s 16ms/step - loss: 0.0097\n",
      "Epoch 35/100\n",
      "38/38 [==============================] - 1s 17ms/step - loss: 0.0088\n",
      "Epoch 36/100\n",
      "38/38 [==============================] - 1s 16ms/step - loss: 0.0086\n",
      "Epoch 37/100\n",
      "38/38 [==============================] - 1s 16ms/step - loss: 0.0075\n",
      "Epoch 38/100\n",
      "38/38 [==============================] - 1s 16ms/step - loss: 0.0079\n",
      "Epoch 39/100\n",
      "38/38 [==============================] - 1s 16ms/step - loss: 0.0068\n",
      "Epoch 40/100\n",
      "38/38 [==============================] - 1s 16ms/step - loss: 0.0077\n",
      "Epoch 41/100\n",
      "38/38 [==============================] - 1s 16ms/step - loss: 0.0076\n",
      "Epoch 42/100\n",
      "38/38 [==============================] - 1s 16ms/step - loss: 0.0068\n",
      "Epoch 43/100\n",
      "38/38 [==============================] - 1s 16ms/step - loss: 0.0061\n",
      "Epoch 44/100\n",
      "38/38 [==============================] - 1s 16ms/step - loss: 0.0065\n",
      "Epoch 45/100\n",
      "38/38 [==============================] - 1s 16ms/step - loss: 0.0064\n",
      "Epoch 46/100\n",
      "38/38 [==============================] - 1s 17ms/step - loss: 0.0057\n",
      "Epoch 47/100\n",
      "38/38 [==============================] - 1s 17ms/step - loss: 0.0052\n",
      "Epoch 48/100\n",
      "38/38 [==============================] - 1s 16ms/step - loss: 0.0058\n",
      "Epoch 49/100\n",
      "38/38 [==============================] - 1s 16ms/step - loss: 0.0056\n",
      "Epoch 50/100\n",
      "38/38 [==============================] - 1s 16ms/step - loss: 0.0050\n",
      "Epoch 51/100\n",
      "38/38 [==============================] - 1s 16ms/step - loss: 0.0047\n",
      "Epoch 52/100\n",
      "38/38 [==============================] - 1s 17ms/step - loss: 0.0046\n",
      "Epoch 53/100\n",
      "38/38 [==============================] - 1s 17ms/step - loss: 0.0049\n",
      "Epoch 54/100\n",
      "38/38 [==============================] - 1s 16ms/step - loss: 0.0048\n",
      "Epoch 55/100\n",
      "38/38 [==============================] - 1s 16ms/step - loss: 0.0045\n",
      "Epoch 56/100\n",
      "38/38 [==============================] - 1s 16ms/step - loss: 0.0046\n",
      "Epoch 57/100\n",
      "38/38 [==============================] - 1s 16ms/step - loss: 0.0047\n",
      "Epoch 58/100\n",
      "38/38 [==============================] - 1s 16ms/step - loss: 0.0047\n",
      "Epoch 59/100\n",
      "38/38 [==============================] - 1s 16ms/step - loss: 0.0043\n",
      "Epoch 60/100\n",
      "38/38 [==============================] - 1s 16ms/step - loss: 0.0043\n",
      "Epoch 61/100\n",
      "38/38 [==============================] - 1s 16ms/step - loss: 0.0038\n",
      "Epoch 62/100\n",
      "38/38 [==============================] - 1s 17ms/step - loss: 0.0038\n",
      "Epoch 63/100\n",
      "38/38 [==============================] - 1s 16ms/step - loss: 0.0036\n",
      "Epoch 64/100\n",
      "38/38 [==============================] - 1s 17ms/step - loss: 0.0040\n",
      "Epoch 65/100\n",
      "38/38 [==============================] - 1s 16ms/step - loss: 0.0042\n",
      "Epoch 66/100\n",
      "38/38 [==============================] - 1s 17ms/step - loss: 0.0038\n",
      "Epoch 67/100\n",
      "38/38 [==============================] - 1s 16ms/step - loss: 0.0035\n",
      "Epoch 68/100\n",
      "38/38 [==============================] - 1s 17ms/step - loss: 0.0037\n",
      "Epoch 69/100\n",
      "38/38 [==============================] - 1s 16ms/step - loss: 0.0034\n",
      "Epoch 70/100\n",
      "38/38 [==============================] - 1s 19ms/step - loss: 0.0036\n",
      "Epoch 71/100\n",
      "38/38 [==============================] - 1s 19ms/step - loss: 0.0035\n",
      "Epoch 72/100\n",
      "38/38 [==============================] - 1s 20ms/step - loss: 0.0035\n",
      "Epoch 73/100\n",
      "38/38 [==============================] - 1s 19ms/step - loss: 0.0031\n",
      "Epoch 74/100\n",
      "38/38 [==============================] - 1s 19ms/step - loss: 0.0033\n",
      "Epoch 75/100\n",
      "38/38 [==============================] - 1s 18ms/step - loss: 0.0030\n",
      "Epoch 76/100\n",
      "38/38 [==============================] - 1s 18ms/step - loss: 0.0031\n",
      "Epoch 77/100\n",
      "38/38 [==============================] - 1s 19ms/step - loss: 0.0030\n",
      "Epoch 78/100\n",
      "38/38 [==============================] - 1s 19ms/step - loss: 0.0032\n",
      "Epoch 79/100\n",
      "38/38 [==============================] - 1s 19ms/step - loss: 0.0030\n",
      "Epoch 80/100\n",
      "38/38 [==============================] - 1s 19ms/step - loss: 0.0029\n",
      "Epoch 81/100\n",
      "38/38 [==============================] - 1s 19ms/step - loss: 0.0027\n",
      "Epoch 82/100\n",
      "38/38 [==============================] - 1s 19ms/step - loss: 0.0030\n",
      "Epoch 83/100\n",
      "38/38 [==============================] - 1s 18ms/step - loss: 0.0028\n",
      "Epoch 84/100\n",
      "38/38 [==============================] - 1s 19ms/step - loss: 0.0029\n",
      "Epoch 85/100\n",
      "38/38 [==============================] - 1s 18ms/step - loss: 0.0032\n",
      "Epoch 86/100\n",
      "38/38 [==============================] - 1s 18ms/step - loss: 0.0028\n",
      "Epoch 87/100\n",
      "38/38 [==============================] - 1s 19ms/step - loss: 0.0027\n",
      "Epoch 88/100\n",
      "38/38 [==============================] - 1s 19ms/step - loss: 0.0027\n",
      "Epoch 89/100\n",
      "38/38 [==============================] - 1s 19ms/step - loss: 0.0030\n",
      "Epoch 90/100\n",
      "38/38 [==============================] - 1s 18ms/step - loss: 0.0028\n",
      "Epoch 91/100\n",
      "38/38 [==============================] - 1s 18ms/step - loss: 0.0027\n",
      "Epoch 92/100\n",
      "38/38 [==============================] - 1s 19ms/step - loss: 0.0032\n",
      "Epoch 93/100\n",
      "38/38 [==============================] - 1s 19ms/step - loss: 0.0027\n",
      "Epoch 94/100\n",
      "38/38 [==============================] - 1s 18ms/step - loss: 0.0027\n",
      "Epoch 95/100\n",
      "38/38 [==============================] - 1s 19ms/step - loss: 0.0025\n",
      "Epoch 96/100\n",
      "38/38 [==============================] - 1s 19ms/step - loss: 0.0026\n",
      "Epoch 97/100\n",
      "38/38 [==============================] - 1s 18ms/step - loss: 0.0023\n",
      "Epoch 98/100\n",
      "38/38 [==============================] - 1s 19ms/step - loss: 0.0022\n",
      "Epoch 99/100\n",
      "38/38 [==============================] - 1s 19ms/step - loss: 0.0022\n",
      "Epoch 100/100\n",
      "38/38 [==============================] - 1s 19ms/step - loss: 0.0026\n"
     ]
    },
    {
     "data": {
      "text/plain": [
       "<keras.callbacks.History at 0x7f0c0850a880>"
      ]
     },
     "execution_count": 10,
     "metadata": {},
     "output_type": "execute_result"
    }
   ],
   "source": [
    "# Importing the Keras libraries and packages\n",
    "from keras.models import Sequential\n",
    "from keras.layers import Dense\n",
    "from keras.layers import SimpleRNN\n",
    "from keras.layers import Dropout\n",
    "\n",
    "# Initialising the RNN\n",
    "regressor = Sequential()\n",
    "\n",
    "# Adding the first RNN layer and some Dropout regularisation\n",
    "regressor.add(SimpleRNN(units = 50,activation='tanh', return_sequences = True, input_shape = (X_train.shape[1], 1)))\n",
    "regressor.add(Dropout(0.2))\n",
    "\n",
    "# Adding a second RNN layer and some Dropout regularisation\n",
    "regressor.add(SimpleRNN(units = 50,activation='tanh', return_sequences = True))\n",
    "regressor.add(Dropout(0.2))\n",
    "\n",
    "# Adding a third RNN layer and some Dropout regularisation\n",
    "regressor.add(SimpleRNN(units = 50,activation='tanh', return_sequences = True))\n",
    "regressor.add(Dropout(0.2))\n",
    "\n",
    "# Adding a fourth RNN layer and some Dropout regularisation\n",
    "regressor.add(SimpleRNN(units = 50))\n",
    "regressor.add(Dropout(0.2))\n",
    "\n",
    "# Adding the output layer\n",
    "regressor.add(Dense(units = 1))\n",
    "\n",
    "# Compiling the RNN\n",
    "regressor.compile(optimizer = 'adam', loss = 'mean_squared_error')\n",
    "\n",
    "# Fitting the RNN to the Training set\n",
    "regressor.fit(X_train, y_train, epochs = 100, batch_size = 32)"
   ]
  },
  {
   "cell_type": "markdown",
   "metadata": {},
   "source": [
    "<a id=\"33\"></a>\n",
    "### Predictions and Visualising RNN Model"
   ]
  },
  {
   "cell_type": "code",
   "execution_count": 11,
   "metadata": {},
   "outputs": [
    {
     "data": {
      "text/html": [
       "<div>\n",
       "<style scoped>\n",
       "    .dataframe tbody tr th:only-of-type {\n",
       "        vertical-align: middle;\n",
       "    }\n",
       "\n",
       "    .dataframe tbody tr th {\n",
       "        vertical-align: top;\n",
       "    }\n",
       "\n",
       "    .dataframe thead th {\n",
       "        text-align: right;\n",
       "    }\n",
       "</style>\n",
       "<table border=\"1\" class=\"dataframe\">\n",
       "  <thead>\n",
       "    <tr style=\"text-align: right;\">\n",
       "      <th></th>\n",
       "      <th>Date</th>\n",
       "      <th>Open</th>\n",
       "      <th>High</th>\n",
       "      <th>Low</th>\n",
       "      <th>Close</th>\n",
       "      <th>Volume</th>\n",
       "    </tr>\n",
       "  </thead>\n",
       "  <tbody>\n",
       "    <tr>\n",
       "      <th>0</th>\n",
       "      <td>1/3/2017</td>\n",
       "      <td>778.81</td>\n",
       "      <td>789.63</td>\n",
       "      <td>775.80</td>\n",
       "      <td>786.14</td>\n",
       "      <td>1,657,300</td>\n",
       "    </tr>\n",
       "    <tr>\n",
       "      <th>1</th>\n",
       "      <td>1/4/2017</td>\n",
       "      <td>788.36</td>\n",
       "      <td>791.34</td>\n",
       "      <td>783.16</td>\n",
       "      <td>786.90</td>\n",
       "      <td>1,073,000</td>\n",
       "    </tr>\n",
       "    <tr>\n",
       "      <th>2</th>\n",
       "      <td>1/5/2017</td>\n",
       "      <td>786.08</td>\n",
       "      <td>794.48</td>\n",
       "      <td>785.02</td>\n",
       "      <td>794.02</td>\n",
       "      <td>1,335,200</td>\n",
       "    </tr>\n",
       "    <tr>\n",
       "      <th>3</th>\n",
       "      <td>1/6/2017</td>\n",
       "      <td>795.26</td>\n",
       "      <td>807.90</td>\n",
       "      <td>792.20</td>\n",
       "      <td>806.15</td>\n",
       "      <td>1,640,200</td>\n",
       "    </tr>\n",
       "    <tr>\n",
       "      <th>4</th>\n",
       "      <td>1/9/2017</td>\n",
       "      <td>806.40</td>\n",
       "      <td>809.97</td>\n",
       "      <td>802.83</td>\n",
       "      <td>806.65</td>\n",
       "      <td>1,272,400</td>\n",
       "    </tr>\n",
       "  </tbody>\n",
       "</table>\n",
       "</div>"
      ],
      "text/plain": [
       "       Date    Open    High     Low   Close     Volume\n",
       "0  1/3/2017  778.81  789.63  775.80  786.14  1,657,300\n",
       "1  1/4/2017  788.36  791.34  783.16  786.90  1,073,000\n",
       "2  1/5/2017  786.08  794.48  785.02  794.02  1,335,200\n",
       "3  1/6/2017  795.26  807.90  792.20  806.15  1,640,200\n",
       "4  1/9/2017  806.40  809.97  802.83  806.65  1,272,400"
      ]
     },
     "execution_count": 11,
     "metadata": {},
     "output_type": "execute_result"
    }
   ],
   "source": [
    "# Getting the real stock price of 2017\n",
    "dataset_test = pd.read_csv('Stock_Price_Test.csv')\n",
    "dataset_test.head()"
   ]
  },
  {
   "cell_type": "code",
   "execution_count": 12,
   "metadata": {},
   "outputs": [
    {
     "data": {
      "text/plain": [
       "array([[778.81],\n",
       "       [788.36],\n",
       "       [786.08],\n",
       "       [795.26],\n",
       "       [806.4 ],\n",
       "       [807.86],\n",
       "       [805.  ],\n",
       "       [807.14],\n",
       "       [807.48],\n",
       "       [807.08],\n",
       "       [805.81],\n",
       "       [805.12],\n",
       "       [806.91],\n",
       "       [807.25],\n",
       "       [822.3 ],\n",
       "       [829.62],\n",
       "       [837.81],\n",
       "       [834.71],\n",
       "       [814.66],\n",
       "       [796.86]])"
      ]
     },
     "execution_count": 12,
     "metadata": {},
     "output_type": "execute_result"
    }
   ],
   "source": [
    "real_stock_price = dataset_test.loc[:, [\"Open\"]].values\n",
    "real_stock_price"
   ]
  },
  {
   "cell_type": "code",
   "execution_count": 13,
   "metadata": {},
   "outputs": [],
   "source": [
    "# Getting the predicted stock price of 2017\n",
    "dataset_total = pd.concat((dataset_train['Open'], dataset_test['Open']), axis = 0)\n",
    "inputs = dataset_total[len(dataset_total) - len(dataset_test) - timesteps:].values.reshape(-1,1)\n",
    "inputs = scaler.transform(inputs)  # min max scaler\n",
    "#inputs"
   ]
  },
  {
   "cell_type": "code",
   "execution_count": 14,
   "metadata": {},
   "outputs": [
    {
     "name": "stdout",
     "output_type": "stream",
     "text": [
      "1/1 [==============================] - 0s 262ms/step\n"
     ]
    },
    {
     "data": {
      "image/png": "[encoded data removed]",
      "text/plain": [
       "<Figure size 432x288 with 1 Axes>"
      ]
     },
     "metadata": {
      "needs_background": "light"
     },
     "output_type": "display_data"
    }
   ],
   "source": [
    "X_test = []\n",
    "for i in range(timesteps, 70):\n",
    "    X_test.append(inputs[i-timesteps:i, 0])\n",
    "X_test = np.array(X_test)\n",
    "X_test = np.reshape(X_test, (X_test.shape[0], X_test.shape[1], 1))\n",
    "predicted_stock_price = regressor.predict(X_test)\n",
    "predicted_stock_price = scaler.inverse_transform(predicted_stock_price)\n",
    "\n",
    "# Visualising the results\n",
    "plt.plot(real_stock_price, color = 'red', label = 'Real Google Stock Price')\n",
    "plt.plot(predicted_stock_price, color = 'blue', label = 'Predicted Google Stock Price')\n",
    "plt.title('Google Stock Price Prediction')\n",
    "plt.xlabel('Time')\n",
    "plt.ylabel('Google Stock Price')\n",
    "plt.legend()\n",
    "plt.show()\n",
    "# epoch = 250 daha güzel sonuç veriyor."
   ]
  },
  {
   "cell_type": "markdown",
   "metadata": {},
   "source": [
    "### LSTM Model"
   ]
  },
  {
   "cell_type": "code",
   "execution_count": 15,
   "metadata": {},
   "outputs": [],
   "source": [
    "from sklearn.model_selection import train_test_split\n",
    "X_train, X_val, y_train, y_val = train_test_split(X_train, y_train, test_size = 0.1, random_state=2)"
   ]
  },
  {
   "cell_type": "code",
   "execution_count": 23,
   "metadata": {
    "scrolled": true
   },
   "outputs": [
    {
     "name": "stdout",
     "output_type": "stream",
     "text": [
      "Epoch 1/100\n",
      "34/34 [==============================] - 3s 31ms/step - loss: 0.0521 - mae: 0.1537 - val_loss: 0.0026 - val_mae: 0.0406\n",
      "Epoch 2/100\n",
      "34/34 [==============================] - 1s 18ms/step - loss: 0.0042 - mae: 0.0470 - val_loss: 0.0015 - val_mae: 0.0286\n",
      "Epoch 3/100\n",
      "34/34 [==============================] - 1s 18ms/step - loss: 0.0030 - mae: 0.0392 - val_loss: 0.0029 - val_mae: 0.0422\n",
      "Epoch 4/100\n",
      "34/34 [==============================] - 1s 18ms/step - loss: 0.0031 - mae: 0.0399 - val_loss: 0.0014 - val_mae: 0.0272\n",
      "Epoch 5/100\n",
      "34/34 [==============================] - 1s 18ms/step - loss: 0.0026 - mae: 0.0359 - val_loss: 0.0013 - val_mae: 0.0249\n",
      "Epoch 6/100\n",
      "34/34 [==============================] - 1s 18ms/step - loss: 0.0024 - mae: 0.0359 - val_loss: 0.0012 - val_mae: 0.0236\n",
      "Epoch 7/100\n",
      "34/34 [==============================] - 1s 18ms/step - loss: 0.0025 - mae: 0.0356 - val_loss: 0.0010 - val_mae: 0.0209\n",
      "Epoch 8/100\n",
      "34/34 [==============================] - 1s 18ms/step - loss: 0.0021 - mae: 0.0324 - val_loss: 9.8149e-04 - val_mae: 0.0207\n",
      "Epoch 9/100\n",
      "34/34 [==============================] - 1s 18ms/step - loss: 0.0021 - mae: 0.0330 - val_loss: 0.0012 - val_mae: 0.0230\n",
      "Epoch 10/100\n",
      "34/34 [==============================] - 1s 19ms/step - loss: 0.0021 - mae: 0.0338 - val_loss: 0.0011 - val_mae: 0.0211\n",
      "Epoch 11/100\n",
      "34/34 [==============================] - 1s 19ms/step - loss: 0.0023 - mae: 0.0348 - val_loss: 9.6286e-04 - val_mae: 0.0209\n",
      "Epoch 12/100\n",
      "34/34 [==============================] - 1s 19ms/step - loss: 0.0017 - mae: 0.0295 - val_loss: 9.2081e-04 - val_mae: 0.0199\n",
      "Epoch 13/100\n",
      "34/34 [==============================] - 1s 19ms/step - loss: 0.0019 - mae: 0.0308 - val_loss: 0.0011 - val_mae: 0.0230\n",
      "Epoch 14/100\n",
      "34/34 [==============================] - 1s 18ms/step - loss: 0.0019 - mae: 0.0320 - val_loss: 9.0874e-04 - val_mae: 0.0199\n",
      "Epoch 15/100\n",
      "34/34 [==============================] - 1s 18ms/step - loss: 0.0018 - mae: 0.0309 - val_loss: 0.0012 - val_mae: 0.0247\n",
      "Epoch 16/100\n",
      "34/34 [==============================] - 1s 18ms/step - loss: 0.0015 - mae: 0.0278 - val_loss: 0.0012 - val_mae: 0.0238\n",
      "Epoch 17/100\n",
      "34/34 [==============================] - 1s 18ms/step - loss: 0.0017 - mae: 0.0300 - val_loss: 0.0012 - val_mae: 0.0249\n",
      "Epoch 18/100\n",
      "34/34 [==============================] - 1s 19ms/step - loss: 0.0017 - mae: 0.0297 - val_loss: 8.6066e-04 - val_mae: 0.0193\n",
      "Epoch 19/100\n",
      "34/34 [==============================] - 1s 20ms/step - loss: 0.0016 - mae: 0.0291 - val_loss: 8.7756e-04 - val_mae: 0.0193\n",
      "Epoch 20/100\n",
      "34/34 [==============================] - 1s 21ms/step - loss: 0.0015 - mae: 0.0285 - val_loss: 9.7599e-04 - val_mae: 0.0221\n",
      "Epoch 21/100\n",
      "34/34 [==============================] - 1s 21ms/step - loss: 0.0015 - mae: 0.0289 - val_loss: 9.1291e-04 - val_mae: 0.0199\n",
      "Epoch 22/100\n",
      "34/34 [==============================] - 1s 21ms/step - loss: 0.0016 - mae: 0.0301 - val_loss: 9.2739e-04 - val_mae: 0.0211\n",
      "Epoch 23/100\n",
      "34/34 [==============================] - 1s 21ms/step - loss: 0.0014 - mae: 0.0273 - val_loss: 8.9504e-04 - val_mae: 0.0199\n",
      "Epoch 24/100\n",
      "34/34 [==============================] - 1s 20ms/step - loss: 0.0014 - mae: 0.0273 - val_loss: 0.0013 - val_mae: 0.0257\n",
      "Epoch 25/100\n",
      "34/34 [==============================] - 1s 21ms/step - loss: 0.0014 - mae: 0.0279 - val_loss: 9.6847e-04 - val_mae: 0.0233\n",
      "Epoch 26/100\n",
      "34/34 [==============================] - 1s 19ms/step - loss: 0.0014 - mae: 0.0270 - val_loss: 8.0745e-04 - val_mae: 0.0192\n",
      "Epoch 27/100\n",
      "34/34 [==============================] - 1s 19ms/step - loss: 0.0014 - mae: 0.0276 - val_loss: 8.8788e-04 - val_mae: 0.0199\n",
      "Epoch 28/100\n",
      "34/34 [==============================] - 1s 19ms/step - loss: 0.0013 - mae: 0.0269 - val_loss: 8.9584e-04 - val_mae: 0.0204\n",
      "Epoch 29/100\n",
      "34/34 [==============================] - 1s 18ms/step - loss: 0.0014 - mae: 0.0274 - val_loss: 8.4774e-04 - val_mae: 0.0205\n",
      "Epoch 30/100\n",
      "34/34 [==============================] - 1s 18ms/step - loss: 0.0012 - mae: 0.0262 - val_loss: 7.8132e-04 - val_mae: 0.0178\n",
      "Epoch 31/100\n",
      "34/34 [==============================] - 1s 18ms/step - loss: 0.0013 - mae: 0.0264 - val_loss: 7.6574e-04 - val_mae: 0.0184\n",
      "Epoch 32/100\n",
      "34/34 [==============================] - 1s 20ms/step - loss: 0.0012 - mae: 0.0246 - val_loss: 7.7251e-04 - val_mae: 0.0178\n",
      "Epoch 33/100\n",
      "34/34 [==============================] - 1s 18ms/step - loss: 0.0012 - mae: 0.0253 - val_loss: 9.6013e-04 - val_mae: 0.0218\n",
      "Epoch 34/100\n",
      "34/34 [==============================] - 1s 18ms/step - loss: 0.0011 - mae: 0.0249 - val_loss: 7.0940e-04 - val_mae: 0.0166\n",
      "Epoch 35/100\n",
      "34/34 [==============================] - 1s 18ms/step - loss: 0.0011 - mae: 0.0241 - val_loss: 0.0012 - val_mae: 0.0263\n",
      "Epoch 36/100\n",
      "34/34 [==============================] - 1s 18ms/step - loss: 0.0012 - mae: 0.0255 - val_loss: 7.7765e-04 - val_mae: 0.0182\n",
      "Epoch 37/100\n",
      "34/34 [==============================] - 1s 19ms/step - loss: 0.0014 - mae: 0.0284 - val_loss: 8.6929e-04 - val_mae: 0.0223\n",
      "Epoch 38/100\n",
      "34/34 [==============================] - 1s 18ms/step - loss: 0.0013 - mae: 0.0269 - val_loss: 6.9899e-04 - val_mae: 0.0170\n",
      "Epoch 39/100\n",
      "34/34 [==============================] - 1s 18ms/step - loss: 0.0011 - mae: 0.0241 - val_loss: 7.2105e-04 - val_mae: 0.0176\n",
      "Epoch 40/100\n",
      "34/34 [==============================] - 1s 18ms/step - loss: 0.0012 - mae: 0.0252 - val_loss: 7.1079e-04 - val_mae: 0.0169\n",
      "Epoch 41/100\n",
      "34/34 [==============================] - 1s 18ms/step - loss: 0.0011 - mae: 0.0245 - val_loss: 7.0136e-04 - val_mae: 0.0167\n",
      "Epoch 42/100\n",
      "34/34 [==============================] - 1s 18ms/step - loss: 0.0015 - mae: 0.0288 - val_loss: 7.5091e-04 - val_mae: 0.0195\n",
      "Epoch 43/100\n",
      "34/34 [==============================] - 1s 18ms/step - loss: 0.0012 - mae: 0.0254 - val_loss: 6.5682e-04 - val_mae: 0.0155\n",
      "Epoch 44/100\n",
      "34/34 [==============================] - 1s 18ms/step - loss: 0.0010 - mae: 0.0241 - val_loss: 7.6614e-04 - val_mae: 0.0201\n",
      "Epoch 45/100\n",
      "34/34 [==============================] - 1s 18ms/step - loss: 0.0010 - mae: 0.0240 - val_loss: 7.3513e-04 - val_mae: 0.0177\n",
      "Epoch 46/100\n",
      "34/34 [==============================] - 1s 18ms/step - loss: 0.0011 - mae: 0.0242 - val_loss: 6.1996e-04 - val_mae: 0.0161\n",
      "Epoch 47/100\n",
      "34/34 [==============================] - 1s 17ms/step - loss: 0.0011 - mae: 0.0246 - val_loss: 6.8046e-04 - val_mae: 0.0173\n",
      "Epoch 48/100\n",
      "34/34 [==============================] - 1s 18ms/step - loss: 9.0156e-04 - mae: 0.0223 - val_loss: 5.8448e-04 - val_mae: 0.0148\n",
      "Epoch 49/100\n",
      "34/34 [==============================] - 1s 21ms/step - loss: 9.5266e-04 - mae: 0.0229 - val_loss: 7.1088e-04 - val_mae: 0.0188\n",
      "Epoch 50/100\n",
      "34/34 [==============================] - 1s 18ms/step - loss: 0.0011 - mae: 0.0252 - val_loss: 0.0011 - val_mae: 0.0240\n",
      "Epoch 51/100\n",
      "34/34 [==============================] - 1s 17ms/step - loss: 0.0011 - mae: 0.0241 - val_loss: 6.7804e-04 - val_mae: 0.0182\n",
      "Epoch 52/100\n",
      "34/34 [==============================] - 1s 18ms/step - loss: 0.0010 - mae: 0.0237 - val_loss: 5.7667e-04 - val_mae: 0.0155\n",
      "Epoch 53/100\n",
      "34/34 [==============================] - 1s 19ms/step - loss: 0.0010 - mae: 0.0236 - val_loss: 5.6482e-04 - val_mae: 0.0141\n",
      "Epoch 54/100\n",
      "34/34 [==============================] - 1s 18ms/step - loss: 0.0012 - mae: 0.0254 - val_loss: 9.4329e-04 - val_mae: 0.0237\n",
      "Epoch 55/100\n",
      "34/34 [==============================] - 1s 18ms/step - loss: 0.0010 - mae: 0.0239 - val_loss: 6.9457e-04 - val_mae: 0.0179\n",
      "Epoch 56/100\n",
      "34/34 [==============================] - 1s 17ms/step - loss: 0.0011 - mae: 0.0251 - val_loss: 7.7328e-04 - val_mae: 0.0205\n",
      "Epoch 57/100\n",
      "34/34 [==============================] - 1s 18ms/step - loss: 9.9438e-04 - mae: 0.0233 - val_loss: 8.2049e-04 - val_mae: 0.0218\n",
      "Epoch 58/100\n",
      "34/34 [==============================] - 1s 20ms/step - loss: 0.0010 - mae: 0.0237 - val_loss: 6.4742e-04 - val_mae: 0.0159\n",
      "Epoch 59/100\n",
      "34/34 [==============================] - 1s 20ms/step - loss: 8.7927e-04 - mae: 0.0214 - val_loss: 6.8096e-04 - val_mae: 0.0170\n",
      "Epoch 60/100\n",
      "34/34 [==============================] - 1s 20ms/step - loss: 9.3462e-04 - mae: 0.0223 - val_loss: 6.8495e-04 - val_mae: 0.0180\n",
      "Epoch 61/100\n",
      "34/34 [==============================] - 1s 18ms/step - loss: 0.0011 - mae: 0.0247 - val_loss: 6.1285e-04 - val_mae: 0.0148\n",
      "Epoch 62/100\n",
      "34/34 [==============================] - 1s 18ms/step - loss: 0.0010 - mae: 0.0241 - val_loss: 8.4648e-04 - val_mae: 0.0207\n",
      "Epoch 63/100\n",
      "34/34 [==============================] - 1s 17ms/step - loss: 0.0011 - mae: 0.0249 - val_loss: 8.6557e-04 - val_mae: 0.0201\n",
      "Epoch 64/100\n",
      "34/34 [==============================] - 1s 18ms/step - loss: 9.5368e-04 - mae: 0.0225 - val_loss: 5.7485e-04 - val_mae: 0.0146\n",
      "Epoch 65/100\n",
      "34/34 [==============================] - 1s 18ms/step - loss: 9.3991e-04 - mae: 0.0229 - val_loss: 7.2395e-04 - val_mae: 0.0200\n",
      "Epoch 66/100\n",
      "34/34 [==============================] - 1s 18ms/step - loss: 0.0010 - mae: 0.0239 - val_loss: 5.7104e-04 - val_mae: 0.0155\n",
      "Epoch 67/100\n",
      "34/34 [==============================] - 1s 18ms/step - loss: 9.1326e-04 - mae: 0.0223 - val_loss: 6.5181e-04 - val_mae: 0.0182\n",
      "Epoch 68/100\n",
      "34/34 [==============================] - 1s 17ms/step - loss: 0.0010 - mae: 0.0236 - val_loss: 5.4535e-04 - val_mae: 0.0142\n",
      "Epoch 69/100\n",
      "34/34 [==============================] - 1s 18ms/step - loss: 9.6060e-04 - mae: 0.0227 - val_loss: 7.4012e-04 - val_mae: 0.0198\n",
      "Epoch 70/100\n",
      "34/34 [==============================] - 1s 18ms/step - loss: 0.0010 - mae: 0.0227 - val_loss: 7.6156e-04 - val_mae: 0.0207\n",
      "Epoch 71/100\n",
      "34/34 [==============================] - 1s 17ms/step - loss: 0.0010 - mae: 0.0235 - val_loss: 5.2710e-04 - val_mae: 0.0131\n",
      "Epoch 72/100\n",
      "34/34 [==============================] - 1s 18ms/step - loss: 8.1616e-04 - mae: 0.0210 - val_loss: 5.4655e-04 - val_mae: 0.0139\n",
      "Epoch 73/100\n",
      "34/34 [==============================] - 1s 19ms/step - loss: 9.1599e-04 - mae: 0.0225 - val_loss: 5.7502e-04 - val_mae: 0.0148\n",
      "Epoch 74/100\n",
      "34/34 [==============================] - 1s 19ms/step - loss: 0.0010 - mae: 0.0236 - val_loss: 6.9941e-04 - val_mae: 0.0196\n",
      "Epoch 75/100\n",
      "34/34 [==============================] - 1s 21ms/step - loss: 0.0011 - mae: 0.0245 - val_loss: 5.5678e-04 - val_mae: 0.0146\n",
      "Epoch 76/100\n",
      "34/34 [==============================] - 1s 23ms/step - loss: 0.0011 - mae: 0.0242 - val_loss: 5.1670e-04 - val_mae: 0.0137\n",
      "Epoch 77/100\n",
      "34/34 [==============================] - 1s 21ms/step - loss: 0.0011 - mae: 0.0247 - val_loss: 6.1598e-04 - val_mae: 0.0153\n",
      "Epoch 78/100\n",
      "34/34 [==============================] - 1s 22ms/step - loss: 9.4045e-04 - mae: 0.0226 - val_loss: 5.5698e-04 - val_mae: 0.0154\n",
      "Epoch 79/100\n",
      "34/34 [==============================] - 1s 24ms/step - loss: 8.4654e-04 - mae: 0.0216 - val_loss: 6.1210e-04 - val_mae: 0.0171\n",
      "Epoch 80/100\n",
      "34/34 [==============================] - 1s 23ms/step - loss: 8.3909e-04 - mae: 0.0211 - val_loss: 9.7280e-04 - val_mae: 0.0223\n",
      "Epoch 81/100\n",
      "34/34 [==============================] - 1s 26ms/step - loss: 0.0011 - mae: 0.0243 - val_loss: 5.0510e-04 - val_mae: 0.0130\n",
      "Epoch 82/100\n",
      "34/34 [==============================] - 1s 21ms/step - loss: 0.0011 - mae: 0.0244 - val_loss: 0.0012 - val_mae: 0.0299\n",
      "Epoch 83/100\n",
      "34/34 [==============================] - 1s 22ms/step - loss: 9.8550e-04 - mae: 0.0238 - val_loss: 5.0726e-04 - val_mae: 0.0132\n",
      "Epoch 84/100\n",
      "34/34 [==============================] - 1s 23ms/step - loss: 8.8212e-04 - mae: 0.0224 - val_loss: 5.6127e-04 - val_mae: 0.0142\n",
      "Epoch 85/100\n",
      "34/34 [==============================] - 1s 22ms/step - loss: 9.4080e-04 - mae: 0.0226 - val_loss: 5.0968e-04 - val_mae: 0.0128\n",
      "Epoch 86/100\n",
      "34/34 [==============================] - 1s 22ms/step - loss: 8.4194e-04 - mae: 0.0207 - val_loss: 5.8904e-04 - val_mae: 0.0167\n",
      "Epoch 87/100\n",
      "34/34 [==============================] - 1s 22ms/step - loss: 0.0010 - mae: 0.0237 - val_loss: 5.5602e-04 - val_mae: 0.0150\n",
      "Epoch 88/100\n",
      "34/34 [==============================] - 1s 22ms/step - loss: 0.0010 - mae: 0.0238 - val_loss: 5.9623e-04 - val_mae: 0.0166\n",
      "Epoch 89/100\n",
      "34/34 [==============================] - 1s 22ms/step - loss: 9.9991e-04 - mae: 0.0236 - val_loss: 6.8090e-04 - val_mae: 0.0168\n",
      "Epoch 90/100\n",
      "34/34 [==============================] - 1s 21ms/step - loss: 0.0011 - mae: 0.0246 - val_loss: 9.6676e-04 - val_mae: 0.0237\n",
      "Epoch 91/100\n",
      "34/34 [==============================] - 1s 21ms/step - loss: 8.9781e-04 - mae: 0.0228 - val_loss: 5.9084e-04 - val_mae: 0.0162\n",
      "Epoch 92/100\n",
      "34/34 [==============================] - 1s 21ms/step - loss: 9.3233e-04 - mae: 0.0222 - val_loss: 5.4220e-04 - val_mae: 0.0136\n",
      "Epoch 93/100\n",
      "34/34 [==============================] - 1s 21ms/step - loss: 9.0752e-04 - mae: 0.0222 - val_loss: 5.0842e-04 - val_mae: 0.0136\n",
      "Epoch 94/100\n",
      "34/34 [==============================] - 1s 21ms/step - loss: 0.0010 - mae: 0.0238 - val_loss: 5.0720e-04 - val_mae: 0.0133\n",
      "Epoch 95/100\n",
      "34/34 [==============================] - 1s 21ms/step - loss: 8.8602e-04 - mae: 0.0222 - val_loss: 5.9548e-04 - val_mae: 0.0162\n",
      "Epoch 96/100\n",
      "34/34 [==============================] - 1s 21ms/step - loss: 9.1994e-04 - mae: 0.0225 - val_loss: 4.9905e-04 - val_mae: 0.0129\n",
      "Epoch 97/100\n",
      "34/34 [==============================] - 1s 21ms/step - loss: 8.4666e-04 - mae: 0.0214 - val_loss: 5.0846e-04 - val_mae: 0.0131\n",
      "Epoch 98/100\n",
      "34/34 [==============================] - 1s 21ms/step - loss: 0.0011 - mae: 0.0246 - val_loss: 8.1278e-04 - val_mae: 0.0196\n",
      "Epoch 99/100\n",
      "34/34 [==============================] - 1s 21ms/step - loss: 0.0010 - mae: 0.0233 - val_loss: 8.5067e-04 - val_mae: 0.0203\n",
      "Epoch 100/100\n",
      "34/34 [==============================] - 1s 21ms/step - loss: 0.0011 - mae: 0.0246 - val_loss: 6.5381e-04 - val_mae: 0.0167\n"
     ]
    }
   ],
   "source": [
    "from keras.layers import LSTM\n",
    "import keras\n",
    "lstm_model = Sequential()\n",
    "\n",
    "lstm_model.add(LSTM(50,return_sequences=True, input_shape=(timesteps,1)))\n",
    "lstm_model.add(Dropout(0.2))\n",
    "lstm_model.add(LSTM(50))\n",
    "lstm_model.add(Dropout(0.2))\n",
    "lstm_model.add(Dense(1))\n",
    "opt = keras.optimizers.Adam(learning_rate=0.01)\n",
    "lstm_model.compile(loss=\"mean_squared_error\", optimizer=opt, metrics=[\"mae\"])\n",
    "\n",
    "history=lstm_model.fit(X_train, y_train, epochs=100, batch_size=32, validation_data=(X_val,y_val))\n",
    "\n"
   ]
  },
  {
   "cell_type": "markdown",
   "metadata": {},
   "source": [
    "https://machinelearningmastery.com/return-sequences-and-return-states-for-lstms-in-keras/"
   ]
  },
  {
   "cell_type": "code",
   "execution_count": 46,
   "metadata": {},
   "outputs": [
    {
     "name": "stdout",
     "output_type": "stream",
     "text": [
      "1/1 [==============================] - 0s 425ms/step\n"
     ]
    }
   ],
   "source": [
    "#predicted_stock_price = lstm_model.predict(X_test)\n",
    "#predicted_stock_price#.reshape()\n",
    "#predicted_stock_price = scaler.inverse_transform(predicted_stock_price)"
   ]
  },
  {
   "cell_type": "code",
   "execution_count": 26,
   "metadata": {},
   "outputs": [
    {
     "data": {
      "text/html": [
       "<div>\n",
       "<style scoped>\n",
       "    .dataframe tbody tr th:only-of-type {\n",
       "        vertical-align: middle;\n",
       "    }\n",
       "\n",
       "    .dataframe tbody tr th {\n",
       "        vertical-align: top;\n",
       "    }\n",
       "\n",
       "    .dataframe thead th {\n",
       "        text-align: right;\n",
       "    }\n",
       "</style>\n",
       "<table border=\"1\" class=\"dataframe\">\n",
       "  <thead>\n",
       "    <tr style=\"text-align: right;\">\n",
       "      <th></th>\n",
       "      <th>loss</th>\n",
       "      <th>mae</th>\n",
       "      <th>val_loss</th>\n",
       "      <th>val_mae</th>\n",
       "    </tr>\n",
       "  </thead>\n",
       "  <tbody>\n",
       "    <tr>\n",
       "      <th>0</th>\n",
       "      <td>0.052142</td>\n",
       "      <td>0.153687</td>\n",
       "      <td>0.002586</td>\n",
       "      <td>0.040628</td>\n",
       "    </tr>\n",
       "    <tr>\n",
       "      <th>1</th>\n",
       "      <td>0.004225</td>\n",
       "      <td>0.046978</td>\n",
       "      <td>0.001530</td>\n",
       "      <td>0.028616</td>\n",
       "    </tr>\n",
       "    <tr>\n",
       "      <th>2</th>\n",
       "      <td>0.003000</td>\n",
       "      <td>0.039220</td>\n",
       "      <td>0.002897</td>\n",
       "      <td>0.042164</td>\n",
       "    </tr>\n",
       "    <tr>\n",
       "      <th>3</th>\n",
       "      <td>0.003111</td>\n",
       "      <td>0.039949</td>\n",
       "      <td>0.001449</td>\n",
       "      <td>0.027235</td>\n",
       "    </tr>\n",
       "    <tr>\n",
       "      <th>4</th>\n",
       "      <td>0.002626</td>\n",
       "      <td>0.035935</td>\n",
       "      <td>0.001272</td>\n",
       "      <td>0.024944</td>\n",
       "    </tr>\n",
       "    <tr>\n",
       "      <th>...</th>\n",
       "      <td>...</td>\n",
       "      <td>...</td>\n",
       "      <td>...</td>\n",
       "      <td>...</td>\n",
       "    </tr>\n",
       "    <tr>\n",
       "      <th>95</th>\n",
       "      <td>0.000920</td>\n",
       "      <td>0.022538</td>\n",
       "      <td>0.000499</td>\n",
       "      <td>0.012898</td>\n",
       "    </tr>\n",
       "    <tr>\n",
       "      <th>96</th>\n",
       "      <td>0.000847</td>\n",
       "      <td>0.021387</td>\n",
       "      <td>0.000508</td>\n",
       "      <td>0.013070</td>\n",
       "    </tr>\n",
       "    <tr>\n",
       "      <th>97</th>\n",
       "      <td>0.001109</td>\n",
       "      <td>0.024573</td>\n",
       "      <td>0.000813</td>\n",
       "      <td>0.019630</td>\n",
       "    </tr>\n",
       "    <tr>\n",
       "      <th>98</th>\n",
       "      <td>0.001004</td>\n",
       "      <td>0.023307</td>\n",
       "      <td>0.000851</td>\n",
       "      <td>0.020294</td>\n",
       "    </tr>\n",
       "    <tr>\n",
       "      <th>99</th>\n",
       "      <td>0.001060</td>\n",
       "      <td>0.024604</td>\n",
       "      <td>0.000654</td>\n",
       "      <td>0.016662</td>\n",
       "    </tr>\n",
       "  </tbody>\n",
       "</table>\n",
       "<p>100 rows × 4 columns</p>\n",
       "</div>"
      ],
      "text/plain": [
       "        loss       mae  val_loss   val_mae\n",
       "0   0.052142  0.153687  0.002586  0.040628\n",
       "1   0.004225  0.046978  0.001530  0.028616\n",
       "2   0.003000  0.039220  0.002897  0.042164\n",
       "3   0.003111  0.039949  0.001449  0.027235\n",
       "4   0.002626  0.035935  0.001272  0.024944\n",
       "..       ...       ...       ...       ...\n",
       "95  0.000920  0.022538  0.000499  0.012898\n",
       "96  0.000847  0.021387  0.000508  0.013070\n",
       "97  0.001109  0.024573  0.000813  0.019630\n",
       "98  0.001004  0.023307  0.000851  0.020294\n",
       "99  0.001060  0.024604  0.000654  0.016662\n",
       "\n",
       "[100 rows x 4 columns]"
      ]
     },
     "execution_count": 26,
     "metadata": {},
     "output_type": "execute_result"
    }
   ],
   "source": [
    "results = pd.DataFrame(history.history)\n",
    "results"
   ]
  },
  {
   "cell_type": "code",
   "execution_count": 27,
   "metadata": {},
   "outputs": [
    {
     "data": {
      "image/png": "[encoded data removed]",
      "text/plain": [
       "<Figure size 864x360 with 2 Axes>"
      ]
     },
     "metadata": {
      "needs_background": "light"
     },
     "output_type": "display_data"
    }
   ],
   "source": [
    "# Plot the loss and accuracy curves for training and validation \n",
    "def create_results(history):\n",
    "    results = pd.DataFrame(history.history)\n",
    "    plt.figure(figsize=(12,5))\n",
    "    Train_loss = [i for i in results.loss]\n",
    "    Validation_loss = [i for i in results.val_loss]\n",
    "    Train_accuracy=[i for i in results.mae]\n",
    "    Validation_accuracy=[i for i in results.val_mae]\n",
    "    epochs= [i for i in range(1,101)]\n",
    "    plt.subplot(1,2,1)\n",
    "    plt.subplots_adjust(left=0.1,\n",
    "                        #bottom=0.1, \n",
    "                        right=0.8, \n",
    "                        #top=0.9, \n",
    "                        wspace=0.2, \n",
    "                        hspace=0.2)\n",
    "\n",
    "    plt.xlabel(\"epochs\")\n",
    "    plt.ylabel(\"mae\")\n",
    "    plt.plot(epochs,Train_accuracy,label=\"Training Mae\")\n",
    "    #plt.legend(loc='Training Accuracy')\n",
    "    plt.plot(epochs,Validation_accuracy, label=\"Validation Mae\")\n",
    "    #plt.plot()\n",
    "    plt.legend()\n",
    "    plt.subplot(1,2,2)\n",
    "    plt.xlabel(\"epochs\")\n",
    "    plt.ylabel(\"loss\")\n",
    "    plt.plot(epochs,Train_loss, label=\"Trainin Loss\")\n",
    "    plt.plot(epochs,Validation_loss, label = \"Validation Loss\")\n",
    "    plt.legend()\n",
    "    plt.show()\n",
    "    return results\n",
    "results1 = create_results(history)"
   ]
  },
  {
   "cell_type": "markdown",
   "metadata": {},
   "source": [
    "**There is no overfitting !!**"
   ]
  },
  {
   "cell_type": "code",
   "execution_count": 28,
   "metadata": {},
   "outputs": [
    {
     "name": "stdout",
     "output_type": "stream",
     "text": [
      "1/1 [==============================] - 0s 411ms/step\n"
     ]
    },
    {
     "data": {
      "image/png": "[encoded data removed]",
      "text/plain": [
       "<Figure size 432x288 with 1 Axes>"
      ]
     },
     "metadata": {
      "needs_background": "light"
     },
     "output_type": "display_data"
    }
   ],
   "source": [
    "X_test = []\n",
    "for i in range(timesteps, 70):\n",
    "    X_test.append(inputs[i-timesteps:i, 0])\n",
    "X_test = np.array(X_test)\n",
    "X_test = np.reshape(X_test, (X_test.shape[0], X_test.shape[1], 1))\n",
    "predicted_stock_price = lstm_model.predict(X_test)\n",
    "predicted_stock_price = scaler.inverse_transform(predicted_stock_price)\n",
    "\n",
    "# Visualising the results\n",
    "plt.plot(real_stock_price, color = 'red', label = 'Real Google Stock Price')\n",
    "plt.plot(predicted_stock_price, color = 'blue', label = 'Predicted Google Stock Price')\n",
    "plt.title('Google Stock Price Prediction')\n",
    "plt.xlabel('Time')\n",
    "plt.ylabel('Google Stock Price')\n",
    "plt.legend()\n",
    "plt.show()\n",
    "# epoch = 250"
   ]
  },
  {
   "cell_type": "code",
   "execution_count": 29,
   "metadata": {},
   "outputs": [
    {
     "data": {
      "text/plain": [
       "array([[[0.49890245],\n",
       "        [0.47531438],\n",
       "        [0.46147407],\n",
       "        ...,\n",
       "        [0.52941067],\n",
       "        [0.55861671],\n",
       "        [0.55152913]],\n",
       "\n",
       "       [[0.52275095],\n",
       "        [0.53203363],\n",
       "        [0.68807203],\n",
       "        ...,\n",
       "        [0.66091227],\n",
       "        [0.64714637],\n",
       "        [0.63793809]],\n",
       "\n",
       "       [[0.03287075],\n",
       "        [0.02578317],\n",
       "        [0.02630404],\n",
       "        ...,\n",
       "        [0.07383362],\n",
       "        [0.07346157],\n",
       "        [0.07548925]],\n",
       "\n",
       "       ...,\n",
       "\n",
       "       [[0.4739936 ],\n",
       "        [0.48227175],\n",
       "        [0.48924771],\n",
       "        ...,\n",
       "        [0.6097924 ],\n",
       "        [0.61159685],\n",
       "        [0.5990029 ]],\n",
       "\n",
       "       [[0.56274648],\n",
       "        [0.56661582],\n",
       "        [0.57437309],\n",
       "        ...,\n",
       "        [0.48811295],\n",
       "        [0.49890245],\n",
       "        [0.47531438]],\n",
       "\n",
       "       [[0.9277662 ],\n",
       "        [0.93444453],\n",
       "        [0.92493861],\n",
       "        ...,\n",
       "        [0.89030062],\n",
       "        [0.90335962],\n",
       "        [0.89642086]]])"
      ]
     },
     "execution_count": 29,
     "metadata": {},
     "output_type": "execute_result"
    }
   ],
   "source": [
    "X_train"
   ]
  },
  {
   "cell_type": "markdown",
   "metadata": {},
   "source": [
    "<a id=\"4\"></a>\n",
    "## Long Short Term Memory (LSTMs)\n",
    "* LSTM is variant of RNN.\n",
    "* LSTM de RNN'den farklı olarak long term memory var. \n",
    "* LSTM architecture:\n",
    "    * x: scaling of information\n",
    "    * +: Adding information\n",
    "    * sigmoid layer. Sigmoid memory den bir şeyi hatırlamak için yada unutmak için kullanılır. 1 yada 0'dır.\n",
    "    * tanh: activation function tanh. Tanh vanishing gradient(yavaş öğrenme - çok küçük gradient) problemini çözer. Çünkü parametreleri update ederken türev alıyorduk. Tanh'ın türevi hemen sıfır'a ulaşmaz.\n",
    "    * h(t-1): output of LSTM unit\n",
    "    * c(t-1): memory from previous LSTM unit\n",
    "    * X(t): input\n",
    "    * c(t): new updated memory\n",
    "    * h(t): output\n",
    "    * From c(t-1) to c(t) is memory pipeline. or only memory.\n",
    "    * Oklar vektör.\n",
    "    * h(t-1) ile X(t) birleşmiyor parallel iki yol olarak düşünebilirsiniz.\n",
    "* ![Time](lstm.jpg)\n",
    "* 1) Forget gate: input olarak X(t) ve h(t-1) alır. Gelen bilginin unutulup unutulmayacağına karar verir.\n",
    "* 2) Input gate: Hangi bilginin memory de depolanıp depolanmayacağına karar verir.\n",
    "* 3) Output gate: Hangi bilginin output olup olmayacağına karar verir.\n",
    "* Örneğin: \n",
    "    * ... \"Boys are watching TV\"\n",
    "    * \"On the other hand girls are playing baseball.\"\n",
    "    * Forget \"boys\". new input is \"girls\" and output is \"girls\""
   ]
  },
  {
   "cell_type": "markdown",
   "metadata": {},
   "source": [
    "<a id=\"99\"></a>\n",
    "## Implementing Long Short Term Memory with Keras\n",
    "* [Loading and Visualizing Data](#41)\n",
    "* [Preprocessing Data](#42)\n",
    "* [Create LSTM Model](#43)\n",
    "* [Predictions and Visualising LSTM Model](#44)"
   ]
  },
  {
   "cell_type": "markdown",
   "metadata": {},
   "source": [
    "<a id=\"41\"></a>\n",
    "### Loading and Visualizing Data"
   ]
  },
  {
   "cell_type": "code",
   "execution_count": 17,
   "metadata": {},
   "outputs": [],
   "source": [
    "import numpy\n",
    "import pandas as pd \n",
    "import matplotlib.pyplot as plt\n",
    "import math\n",
    "from keras.models import Sequential\n",
    "from keras.layers import Dense\n",
    "from keras.layers import LSTM\n",
    "from sklearn.preprocessing import MinMaxScaler\n",
    "from sklearn.metrics import mean_squared_error"
   ]
  },
  {
   "cell_type": "code",
   "execution_count": 18,
   "metadata": {},
   "outputs": [
    {
     "data": {
      "text/html": [
       "<div>\n",
       "<style scoped>\n",
       "    .dataframe tbody tr th:only-of-type {\n",
       "        vertical-align: middle;\n",
       "    }\n",
       "\n",
       "    .dataframe tbody tr th {\n",
       "        vertical-align: top;\n",
       "    }\n",
       "\n",
       "    .dataframe thead th {\n",
       "        text-align: right;\n",
       "    }\n",
       "</style>\n",
       "<table border=\"1\" class=\"dataframe\">\n",
       "  <thead>\n",
       "    <tr style=\"text-align: right;\">\n",
       "      <th></th>\n",
       "      <th>Month</th>\n",
       "      <th>International airline passengers: monthly totals in thousands. Jan 49 ? Dec 60</th>\n",
       "    </tr>\n",
       "  </thead>\n",
       "  <tbody>\n",
       "    <tr>\n",
       "      <th>0</th>\n",
       "      <td>1949-01</td>\n",
       "      <td>112</td>\n",
       "    </tr>\n",
       "    <tr>\n",
       "      <th>1</th>\n",
       "      <td>1949-02</td>\n",
       "      <td>118</td>\n",
       "    </tr>\n",
       "    <tr>\n",
       "      <th>2</th>\n",
       "      <td>1949-03</td>\n",
       "      <td>132</td>\n",
       "    </tr>\n",
       "    <tr>\n",
       "      <th>3</th>\n",
       "      <td>1949-04</td>\n",
       "      <td>129</td>\n",
       "    </tr>\n",
       "    <tr>\n",
       "      <th>4</th>\n",
       "      <td>1949-05</td>\n",
       "      <td>121</td>\n",
       "    </tr>\n",
       "  </tbody>\n",
       "</table>\n",
       "</div>"
      ],
      "text/plain": [
       "     Month  \\\n",
       "0  1949-01   \n",
       "1  1949-02   \n",
       "2  1949-03   \n",
       "3  1949-04   \n",
       "4  1949-05   \n",
       "\n",
       "   International airline passengers: monthly totals in thousands. Jan 49 ? Dec 60  \n",
       "0                                                112                               \n",
       "1                                                118                               \n",
       "2                                                132                               \n",
       "3                                                129                               \n",
       "4                                                121                               "
      ]
     },
     "execution_count": 18,
     "metadata": {},
     "output_type": "execute_result"
    }
   ],
   "source": [
    "data = pd.read_csv('international-airline-passengers.csv',skipfooter=5)\n",
    "data.head()"
   ]
  },
  {
   "cell_type": "code",
   "execution_count": 19,
   "metadata": {},
   "outputs": [
    {
     "data": {
      "image/png": "[encoded data removed]",
      "text/plain": [
       "<Figure size 432x288 with 1 Axes>"
      ]
     },
     "metadata": {
      "needs_background": "light"
     },
     "output_type": "display_data"
    }
   ],
   "source": [
    "dataset = data.iloc[:,1].values\n",
    "plt.plot(dataset)\n",
    "plt.xlabel(\"time\")\n",
    "plt.ylabel(\"Number of Passenger\")\n",
    "plt.title(\"international airline passenger\")\n",
    "plt.show()"
   ]
  },
  {
   "cell_type": "markdown",
   "metadata": {},
   "source": [
    "<a id=\"42\"></a>\n",
    "### Preprocessing Data\n",
    "* reshape\n",
    "* change type\n",
    "* scaling\n",
    "* train test split\n",
    "* Create dataset"
   ]
  },
  {
   "cell_type": "code",
   "execution_count": 20,
   "metadata": {},
   "outputs": [
    {
     "data": {
      "text/plain": [
       "(142, 1)"
      ]
     },
     "execution_count": 20,
     "metadata": {},
     "output_type": "execute_result"
    }
   ],
   "source": [
    "dataset = dataset.reshape(-1,1)\n",
    "dataset = dataset.astype(\"float32\")\n",
    "dataset.shape"
   ]
  },
  {
   "cell_type": "code",
   "execution_count": 21,
   "metadata": {},
   "outputs": [],
   "source": [
    "# scaling \n",
    "scaler = MinMaxScaler(feature_range=(0, 1))\n",
    "dataset = scaler.fit_transform(dataset)"
   ]
  },
  {
   "cell_type": "code",
   "execution_count": 22,
   "metadata": {},
   "outputs": [
    {
     "name": "stdout",
     "output_type": "stream",
     "text": [
      "train size: 71, test size: 71 \n"
     ]
    }
   ],
   "source": [
    "train_size = int(len(dataset) * 0.50)\n",
    "test_size = len(dataset) - train_size\n",
    "train = dataset[0:train_size,:]\n",
    "test = dataset[train_size:len(dataset),:]\n",
    "print(\"train size: {}, test size: {} \".format(len(train), len(test)))"
   ]
  },
  {
   "cell_type": "code",
   "execution_count": 23,
   "metadata": {},
   "outputs": [],
   "source": [
    "time_stemp = 10\n",
    "dataX = []\n",
    "dataY = []\n",
    "for i in range(len(train)-time_stemp-1):\n",
    "    a = train[i:(i+time_stemp), 0]\n",
    "    dataX.append(a)\n",
    "    dataY.append(train[i + time_stemp, 0])\n",
    "trainX = numpy.array(dataX)\n",
    "trainY = numpy.array(dataY)  \n"
   ]
  },
  {
   "cell_type": "code",
   "execution_count": 24,
   "metadata": {},
   "outputs": [],
   "source": [
    "dataX = []\n",
    "dataY = []\n",
    "for i in range(len(test)-time_stemp-1):\n",
    "    a = test[i:(i+time_stemp), 0]\n",
    "    dataX.append(a)\n",
    "    dataY.append(test[i + time_stemp, 0])\n",
    "testX = numpy.array(dataX)\n",
    "testY = numpy.array(dataY)  "
   ]
  },
  {
   "cell_type": "code",
   "execution_count": 25,
   "metadata": {},
   "outputs": [],
   "source": [
    "trainX = numpy.reshape(trainX, (trainX.shape[0], 1, trainX.shape[1]))\n",
    "testX = numpy.reshape(testX, (testX.shape[0], 1, testX.shape[1]))"
   ]
  },
  {
   "cell_type": "markdown",
   "metadata": {},
   "source": [
    "<a id=\"43\"></a>\n",
    "### Create LSTM Model"
   ]
  },
  {
   "cell_type": "code",
   "execution_count": 26,
   "metadata": {
    "scrolled": true
   },
   "outputs": [
    {
     "name": "stdout",
     "output_type": "stream",
     "text": [
      "Epoch 1/50\n",
      "60/60 [==============================] - 1s 828us/step - loss: 0.0220\n",
      "Epoch 2/50\n",
      "60/60 [==============================] - 0s 797us/step - loss: 0.0047\n",
      "Epoch 3/50\n",
      "60/60 [==============================] - 0s 771us/step - loss: 0.0038\n",
      "Epoch 4/50\n",
      "60/60 [==============================] - 0s 753us/step - loss: 0.0035\n",
      "Epoch 5/50\n",
      "60/60 [==============================] - 0s 783us/step - loss: 0.0033\n",
      "Epoch 6/50\n",
      "60/60 [==============================] - 0s 744us/step - loss: 0.0030\n",
      "Epoch 7/50\n",
      "60/60 [==============================] - 0s 755us/step - loss: 0.0029\n",
      "Epoch 8/50\n",
      "60/60 [==============================] - 0s 751us/step - loss: 0.0028\n",
      "Epoch 9/50\n",
      "60/60 [==============================] - 0s 767us/step - loss: 0.0027\n",
      "Epoch 10/50\n",
      "60/60 [==============================] - 0s 754us/step - loss: 0.0027\n",
      "Epoch 11/50\n",
      "60/60 [==============================] - 0s 749us/step - loss: 0.0025\n",
      "Epoch 12/50\n",
      "60/60 [==============================] - 0s 751us/step - loss: 0.0025\n",
      "Epoch 13/50\n",
      "60/60 [==============================] - 0s 774us/step - loss: 0.0025\n",
      "Epoch 14/50\n",
      "60/60 [==============================] - 0s 765us/step - loss: 0.0024\n",
      "Epoch 15/50\n",
      "60/60 [==============================] - 0s 745us/step - loss: 0.0024\n",
      "Epoch 16/50\n",
      "60/60 [==============================] - 0s 771us/step - loss: 0.0024\n",
      "Epoch 17/50\n",
      "60/60 [==============================] - 0s 754us/step - loss: 0.0023\n",
      "Epoch 18/50\n",
      "60/60 [==============================] - 0s 1ms/step - loss: 0.0023\n",
      "Epoch 19/50\n",
      "60/60 [==============================] - 0s 767us/step - loss: 0.0022\n",
      "Epoch 20/50\n",
      "60/60 [==============================] - 0s 749us/step - loss: 0.0022\n",
      "Epoch 21/50\n",
      "60/60 [==============================] - 0s 751us/step - loss: 0.0021\n",
      "Epoch 22/50\n",
      "60/60 [==============================] - 0s 774us/step - loss: 0.0021\n",
      "Epoch 23/50\n",
      "60/60 [==============================] - 0s 755us/step - loss: 0.0021\n",
      "Epoch 24/50\n",
      "60/60 [==============================] - 0s 768us/step - loss: 0.0020\n",
      "Epoch 25/50\n",
      "60/60 [==============================] - 0s 772us/step - loss: 0.0020\n",
      "Epoch 26/50\n",
      "60/60 [==============================] - 0s 758us/step - loss: 0.0020\n",
      "Epoch 27/50\n",
      "60/60 [==============================] - 0s 759us/step - loss: 0.0020\n",
      "Epoch 28/50\n",
      "60/60 [==============================] - 0s 762us/step - loss: 0.0019\n",
      "Epoch 29/50\n",
      "60/60 [==============================] - 0s 751us/step - loss: 0.0019\n",
      "Epoch 30/50\n",
      "60/60 [==============================] - 0s 771us/step - loss: 0.0018\n",
      "Epoch 31/50\n",
      "60/60 [==============================] - 0s 751us/step - loss: 0.0018\n",
      "Epoch 32/50\n",
      "60/60 [==============================] - 0s 765us/step - loss: 0.0018\n",
      "Epoch 33/50\n",
      "60/60 [==============================] - 0s 753us/step - loss: 0.0017\n",
      "Epoch 34/50\n",
      "60/60 [==============================] - 0s 736us/step - loss: 0.0017\n",
      "Epoch 35/50\n",
      "60/60 [==============================] - 0s 762us/step - loss: 0.0018\n",
      "Epoch 36/50\n",
      "60/60 [==============================] - 0s 753us/step - loss: 0.0017\n",
      "Epoch 37/50\n",
      "60/60 [==============================] - 0s 780us/step - loss: 0.0017\n",
      "Epoch 38/50\n",
      "60/60 [==============================] - 0s 758us/step - loss: 0.0016\n",
      "Epoch 39/50\n",
      "60/60 [==============================] - 0s 755us/step - loss: 0.0017\n",
      "Epoch 40/50\n",
      "60/60 [==============================] - 0s 763us/step - loss: 0.0016\n",
      "Epoch 41/50\n",
      "60/60 [==============================] - 0s 770us/step - loss: 0.0015\n",
      "Epoch 42/50\n",
      "60/60 [==============================] - 0s 747us/step - loss: 0.0015\n",
      "Epoch 43/50\n",
      "60/60 [==============================] - 0s 811us/step - loss: 0.0015\n",
      "Epoch 44/50\n",
      "60/60 [==============================] - 0s 756us/step - loss: 0.0016\n",
      "Epoch 45/50\n",
      "60/60 [==============================] - 0s 742us/step - loss: 0.0015\n",
      "Epoch 46/50\n",
      "60/60 [==============================] - 0s 763us/step - loss: 0.0016\n",
      "Epoch 47/50\n",
      "60/60 [==============================] - 0s 777us/step - loss: 0.0014\n",
      "Epoch 48/50\n",
      "60/60 [==============================] - 0s 772us/step - loss: 0.0015\n",
      "Epoch 49/50\n",
      "60/60 [==============================] - 0s 768us/step - loss: 0.0014\n",
      "Epoch 50/50\n",
      "60/60 [==============================] - 0s 752us/step - loss: 0.0014\n"
     ]
    },
    {
     "data": {
      "text/plain": [
       "<keras.callbacks.History at 0x7fbf704b5310>"
      ]
     },
     "execution_count": 26,
     "metadata": {},
     "output_type": "execute_result"
    }
   ],
   "source": [
    "# model\n",
    "model = Sequential()\n",
    "model.add(LSTM(10, input_shape=(1, time_stemp))) # 10 lstm neuron(block)\n",
    "model.add(Dense(1))\n",
    "model.compile(loss='mean_squared_error', optimizer='adam')\n",
    "model.fit(trainX, trainY, epochs=50, batch_size=1)"
   ]
  },
  {
   "cell_type": "markdown",
   "metadata": {},
   "source": [
    "<a id=\"44\"></a>\n",
    "### Predictions and Visualising LSTM Model"
   ]
  },
  {
   "cell_type": "code",
   "execution_count": 27,
   "metadata": {},
   "outputs": [
    {
     "name": "stdout",
     "output_type": "stream",
     "text": [
      "2/2 [==============================] - 0s 2ms/step\n",
      "2/2 [==============================] - 0s 2ms/step\n",
      "Train Score: 18.80 RMSE\n",
      "Test Score: 44.41 RMSE\n"
     ]
    }
   ],
   "source": [
    "trainPredict = model.predict(trainX)\n",
    "testPredict = model.predict(testX)\n",
    "# invert predictions\n",
    "trainPredict = scaler.inverse_transform(trainPredict)\n",
    "trainY = scaler.inverse_transform([trainY])\n",
    "testPredict = scaler.inverse_transform(testPredict)\n",
    "testY = scaler.inverse_transform([testY])\n",
    "# calculate root mean squared error\n",
    "trainScore = math.sqrt(mean_squared_error(trainY[0], trainPredict[:,0]))\n",
    "print('Train Score: %.2f RMSE' % (trainScore))\n",
    "testScore = math.sqrt(mean_squared_error(testY[0], testPredict[:,0]))\n",
    "print('Test Score: %.2f RMSE' % (testScore))"
   ]
  },
  {
   "cell_type": "code",
   "execution_count": 28,
   "metadata": {},
   "outputs": [
    {
     "data": {
      "image/png": "[encoded data removed]",
      "text/plain": [
       "<Figure size 432x288 with 1 Axes>"
      ]
     },
     "metadata": {
      "needs_background": "light"
     },
     "output_type": "display_data"
    }
   ],
   "source": [
    "# shifting train\n",
    "trainPredictPlot = numpy.empty_like(dataset)\n",
    "trainPredictPlot[:, :] = numpy.nan\n",
    "trainPredictPlot[time_stemp:len(trainPredict)+time_stemp, :] = trainPredict\n",
    "# shifting test predictions for plotting\n",
    "testPredictPlot = numpy.empty_like(dataset)\n",
    "testPredictPlot[:, :] = numpy.nan\n",
    "testPredictPlot[len(trainPredict)+(time_stemp*2)+1:len(dataset)-1, :] = testPredict\n",
    "# plot baseline and predictions\n",
    "plt.plot(scaler.inverse_transform(dataset))\n",
    "plt.plot(trainPredictPlot)\n",
    "plt.plot(testPredictPlot)\n",
    "plt.show()"
   ]
  },
  {
   "cell_type": "markdown",
   "metadata": {},
   "source": []
  },
  {
   "cell_type": "code",
   "execution_count": null,
   "metadata": {},
   "outputs": [],
   "source": []
  }
 ],
 "metadata": {
  "kernelspec": {
   "display_name": "Python 3",
   "language": "python",
   "name": "python3"
  },
  "language_info": {
   "codemirror_mode": {
    "name": "ipython",
    "version": 3
   },
   "file_extension": ".py",
   "mimetype": "text/x-python",
   "name": "python",
   "nbconvert_exporter": "python",
   "pygments_lexer": "ipython3",
   "version": "3.8.8"
  }
 },
 "nbformat": 4,
 "nbformat_minor": 2
}
