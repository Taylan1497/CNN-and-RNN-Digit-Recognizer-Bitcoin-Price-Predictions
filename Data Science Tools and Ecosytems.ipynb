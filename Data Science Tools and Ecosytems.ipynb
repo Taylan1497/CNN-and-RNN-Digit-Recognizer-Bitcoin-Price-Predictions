{
 "cells": [
  {
   "cell_type": "markdown",
   "id": "5bd27747",
   "metadata": {},
   "source": [
    "## Tittle of the Project : Data Science Tools and Ecosystem"
   ]
  },
  {
   "cell_type": "code",
   "execution_count": null,
   "id": "a5410e95",
   "metadata": {},
   "outputs": [],
   "source": []
  },
  {
   "cell_type": "markdown",
   "id": "dd798492",
   "metadata": {},
   "source": [
    "### Exircise 3 : Introduction\n",
    "* In this notebook, Data Science Tools and Ecosystem are summarized.\n",
    "\n"
   ]
  },
  {
   "cell_type": "code",
   "execution_count": null,
   "id": "c786f81a",
   "metadata": {},
   "outputs": [],
   "source": []
  },
  {
   "cell_type": "markdown",
   "id": "1ae54225",
   "metadata": {},
   "source": [
    "### Exircise 4: List of Data Science Languages:\n",
    "Some of the popular languages that Data Scientists use are:\n",
    "* Python\n",
    "* R\n",
    "* Julia\n",
    "* ..\n",
    "\n"
   ]
  },
  {
   "cell_type": "markdown",
   "id": "d95b8d7e",
   "metadata": {},
   "source": [
    "### Exircise 5 : Data Science libraries:\n",
    "\n",
    "Some of the commonly used libraries used by Data Scientists include:\n",
    "\n",
    "* Pandas\n",
    "* Matplotlib\n",
    "* Scikit-learn\n",
    "*..."
   ]
  },
  {
   "cell_type": "markdown",
   "id": "4f5a457c",
   "metadata": {},
   "source": [
    "### Exircise 6: Table of Data Science Tools \n",
    "* Jupyter Notebook \n",
    "* RStudio           \n",
    "* VS Code \n",
    "* ..."
   ]
  },
  {
   "cell_type": "markdown",
   "id": "1ce9906c",
   "metadata": {},
   "source": [
    "### Exercise 7 - Create a markdown cell introducing arithmetic expression examples.\n",
    "\n",
    "* Below are a few examples of evaluating arithmetic expressions in Python\n"
   ]
  },
  {
   "cell_type": "code",
   "execution_count": 5,
   "id": "0d59c26f",
   "metadata": {},
   "outputs": [
    {
     "data": {
      "text/plain": [
       "17"
      ]
     },
     "execution_count": 5,
     "metadata": {},
     "output_type": "execute_result"
    }
   ],
   "source": [
    "## Exircise: Create a code cell to multiply and add numbers.\n",
    "\n",
    "(3*4)+5"
   ]
  },
  {
   "cell_type": "code",
   "execution_count": 6,
   "id": "5ab4a09b",
   "metadata": {},
   "outputs": [
    {
     "name": "stdout",
     "output_type": "stream",
     "text": [
      "300 minutes are converted to hours: 5.0\n"
     ]
    }
   ],
   "source": [
    "# Exercise 9 - Create a code cell to convert minutes to hours\n",
    "\n",
    "## This will convert 300 min to our\n",
    "\n",
    "minitues= 300\n",
    "hour = 300/60\n",
    "print(\"300 minutes are converted to hours:\",hour)"
   ]
  },
  {
   "cell_type": "markdown",
   "id": "ab6d7f21",
   "metadata": {},
   "source": [
    "### Exercise 10 - Insert a markdown cell to list Objectives"
   ]
  },
  {
   "cell_type": "markdown",
   "id": "0278369b",
   "metadata": {},
   "source": [
    "Objevtives are given below : \n",
    "Exercise 1: Create a Jupyter Notebook\n",
    "Exercise 2 - Create a markdown cell with the title of the notebook. (1 pt)\n",
    "\n",
    "Exercise 3 - Create a markdown cell for an introduction. (1 pt)\n",
    "Exercise 4 - Create a markdown cell to list data science languages. (3 pts)\n",
    "\n",
    "Exercise 5 - Create a markdown cell to list data science libraries. (3 pts)\n",
    "\n",
    "Exercise 6 - Create a markdown cell with a table of Data Science tools. (3 pts)\n",
    "\n",
    "Exercise 7 - Create a markdown cell introducing arithmetic expression examples. (1 pt)\n",
    "\n",
    "Exercise 8 - Create a code cell to multiply and add numbers. (2 pts)\n",
    "\n",
    "Exercise 9 - Create a code cell to convert minutes to hours. (2 pts)\n",
    "\n",
    "Exercise 10 -Insert a markdown cell to list Objectives. (3 pts)\n",
    "\n",
    "Exercise 11 - Create a markdown cell to indicate the Author’s name. (2 pts)\n",
    "\n",
    "Exercise 12 - Share your notebook through GitHub (3 pts)\n",
    "\n",
    "Exercise 13 - Take a screenshot of the first page of the notebook. (1 pt)"
   ]
  },
  {
   "cell_type": "markdown",
   "id": "bf0ad9ff",
   "metadata": {},
   "source": [
    "### Author Name : Taylan Tatlı"
   ]
  },
  {
   "cell_type": "code",
   "execution_count": null,
   "id": "ac3c4a5f",
   "metadata": {},
   "outputs": [],
   "source": []
  }
 ],
 "metadata": {
  "kernelspec": {
   "display_name": "Python 3 (ipykernel)",
   "language": "python",
   "name": "python3"
  },
  "language_info": {
   "codemirror_mode": {
    "name": "ipython",
    "version": 3
   },
   "file_extension": ".py",
   "mimetype": "text/x-python",
   "name": "python",
   "nbconvert_exporter": "python",
   "pygments_lexer": "ipython3",
   "version": "3.8.8"
  }
 },
 "nbformat": 4,
 "nbformat_minor": 5
}
